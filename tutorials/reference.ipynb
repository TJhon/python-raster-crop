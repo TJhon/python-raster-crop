{
  "cells": [
    {
      "cell_type": "markdown",
      "metadata": {},
      "source": [
        "# Market Areas Indicators creations using Raster Data\n",
        "\n",
        "## Create market areas\n",
        "\n",
        "### How does it work?\n",
        "\n",
        "Considering the initial reference point (the centroid) of the market, a market with a radius `r` is generated, which is represented within a square, taking into account the width of the `grid` (in km) that you want to calculate.\n"
      ]
    },
    {
      "cell_type": "code",
      "execution_count": 59,
      "metadata": {},
      "outputs": [],
      "source": [
        "import requests, pandas as pd, alphashape\n",
        "from tqdm import tqdm\n",
        "import geopandas as gpd, numpy as np\n",
        "from shapely.geometry import LineString, Point\n",
        "from shapely.geometry import Polygon\n",
        "import geopy.distance\n",
        "import warnings \n",
        "import pandas as pd, numpy as np\n",
        "import geopandas as gpd, rasterio as rio\n",
        "from rasterio.mask import mask\n",
        "\n",
        "\n",
        "warnings.filterwarnings('ignore')\n",
        "\n",
        "ecl_dist = geopy.distance.geodesic\n",
        "\n",
        "crs_moll='EPSG:3857'\n",
        "crs_lat='EPSG:4326'"
      ]
    },
    {
      "cell_type": "markdown",
      "metadata": {},
      "source": [
        "For example, if we slightly modify the code from [`make_grid`](https://github.com/alexanderquispe/osrm_python/blob/main/osrmareas/areas.py)"
      ]
    },
    {
      "cell_type": "code",
      "execution_count": 60,
      "metadata": {},
      "outputs": [],
      "source": [
        "import matplotlib.pyplot as plt\n",
        "\n",
        "\n",
        "def destination(x, y, size_grid):\n",
        "    coords_pol = [\n",
        "        (x, y),\n",
        "        (x + size_grid, y),\n",
        "        (x + size_grid, y + size_grid),\n",
        "        (x, y + size_grid),\n",
        "    ]\n",
        "    center = size_grid / 2\n",
        "    coords_center = [x + center, y + center]\n",
        "    return coords_center\n",
        "\n",
        "from_ =[24.933989, 67.107785]\n",
        "def generate_grid(center_lat_long = from_ , radius_km=5, grid_km_size=2.5):\n",
        "\n",
        "    n_grid = radius_km / grid_km_size * 2\n",
        "\n",
        "    center = list(reversed(center_lat_long))\n",
        "    radius_km = radius_km * 1000\n",
        "    initial_center = Point(center)\n",
        "\n",
        "    point_c = gpd.GeoSeries(initial_center, crs=crs_lat).to_crs(crs_moll)\n",
        "    point_center = point_c.buffer(radius_km, cap_style=3)\n",
        "\n",
        "    minX, minY, maxX, maxY = point_center.total_bounds\n",
        "    size_grid_km = (maxY - minY) / n_grid\n",
        "    cols_grid = list(np.arange(minX, maxX, size_grid_km))\n",
        "    rows_grid = list(np.arange(minY, maxY, size_grid_km))\n",
        "\n",
        "    x_destinations = []\n",
        "    y_destinations = []\n",
        "\n",
        "    plt.figure(figsize=(6, 6))\n",
        "\n",
        "    for x in cols_grid:\n",
        "        for y in rows_grid:\n",
        "            final = destination(x, y, size_grid_km)\n",
        "            x_destinations.append(final[0])\n",
        "            y_destinations.append(final[1])\n",
        "\n",
        "    ax = plt.gca()\n",
        "    point_c_moll = point_c.bounds[[\"minx\", \"miny\"]].T.values\n",
        "\n",
        "    for i in range(len(cols_grid)):\n",
        "        plt.axhline(y=rows_grid[i])\n",
        "        plt.axvline(x=cols_grid[i])\n",
        "\n",
        "    plt.scatter(point_c_moll[0][0], point_c_moll[1][0], color=\"red\", s=200)\n",
        "\n",
        "    plt.scatter(x_destinations, y_destinations)\n",
        "    plt.axis(\"off\")\n",
        "\n",
        "    ax.set_xlim((minX, maxX))\n",
        "    ax.set_ylim((minY, maxY))\n",
        "    plt.show()\n",
        "\n",
        "    print(len(y_destinations))"
      ]
    },
    {
      "cell_type": "markdown",
      "metadata": {},
      "source": [
        "In the provided code snippets, the function `generate_grid` is called with different parameters to create grids for different market scenarios. Let's elaborate on each scenario:\n",
        "\n",
        "- For a market with a radius of 5km and a grid size of 2.5km:\n"
      ]
    },
    {
      "cell_type": "code",
      "execution_count": 61,
      "metadata": {},
      "outputs": [
        {
          "data": {
            "image/png": "[encoded data removed]",
            "text/plain": [
              "<Figure size 600x600 with 1 Axes>"
            ]
          },
          "metadata": {},
          "output_type": "display_data"
        },
        {
          "name": "stdout",
          "output_type": "stream",
          "text": [
            "16\n"
          ]
        }
      ],
      "source": [
        "generate_grid(radius_km=5, grid_km_size=2.5)"
      ]
    },
    {
      "cell_type": "markdown",
      "metadata": {},
      "source": [
        "This function call generates a grid where each grid cell covers an area of 2.5km x 2.5km within the 5km radius of the market. With this configuration, there would be 16 final destination points.\n",
        "\n",
        "- For a market with a radius of 5km and a grid size of 1km:"
      ]
    },
    {
      "cell_type": "code",
      "execution_count": 62,
      "metadata": {},
      "outputs": [
        {
          "data": {
            "image/png": "[encoded data removed]",
            "text/plain": [
              "<Figure size 600x600 with 1 Axes>"
            ]
          },
          "metadata": {},
          "output_type": "display_data"
        },
        {
          "name": "stdout",
          "output_type": "stream",
          "text": [
            "100\n"
          ]
        }
      ],
      "source": [
        "generate_grid(radius_km=5, grid_km_size=1)"
      ]
    },
    {
      "cell_type": "markdown",
      "metadata": {},
      "source": [
        "In this scenario, each grid cell covers an area of 1km x 1km within the 5km radius. Consequently, there would be 100 final destination points.\n",
        "\n",
        "- For a grid cell size of 100 meters and a market radius of 1km:"
      ]
    },
    {
      "cell_type": "code",
      "execution_count": 63,
      "metadata": {},
      "outputs": [
        {
          "data": {
            "image/png": "[encoded data removed]",
            "text/plain": [
              "<Figure size 600x600 with 1 Axes>"
            ]
          },
          "metadata": {},
          "output_type": "display_data"
        },
        {
          "name": "stdout",
          "output_type": "stream",
          "text": [
            "400\n"
          ]
        }
      ],
      "source": [
        "generate_grid(radius_km=1, grid_km_size=0.1)"
      ]
    },
    {
      "cell_type": "markdown",
      "metadata": {},
      "source": [
        "This call results in a grid where each grid cell covers an area of 100m x 100m within a 1km radius. Hence, there would be 400 final destination points.\n",
        "\n",
        "These function calls demonstrate how adjusting the grid size affects the granularity of the grid and consequently the number of final destination points within a given market radius.\n",
        "\n",
        "The provided code utilizes the OSRM Directions API through the `osrm_python` package to perform route calculations and visualize them. Let's break down the code and its functionalities:\n",
        "\n",
        "### Setting Up OSRM Directions API with [`osrm_python`](https://github.com/alexanderquispe/osrm_python/tree/main?tab=readme-ov-file#osrm-routes) package\n",
        "\n",
        "To use the library, you need to have the OSRM server running. For this specific case, a PBF file of Pakistan is used."
      ]
    },
    {
      "cell_type": "code",
      "execution_count": 64,
      "metadata": {},
      "outputs": [
        {
          "name": "stdout",
          "output_type": "stream",
          "text": [
            "Convert the country names to lowercase and replace spaces with dashes (-).\n",
            "source: https://download.geofabrik.de/\n"
          ]
        }
      ],
      "source": [
        "# Download PBF file\n",
        "from osrmareas.downloader import GetPBF\n",
        "download = GetPBF()\n",
        "download.country(['pakistan']).get(save_dir='countr_pk')\n",
        "\n",
        "pbf_file = 'pakistan-latest.osm' #{country, subregion}-latest.osm\n",
        "pbf_file_path = './countr_pk'\n",
        "\n",
        "from osrmareas.osrm import Server\n",
        "pk_server = Server(pbf_file, pbf_file_path)"
      ]
    },
    {
      "cell_type": "markdown",
      "metadata": {},
      "source": [
        "### Generating OSRM Files and Running the Server\n",
        "\n",
        "The following code generates the necessary files for OSRM and starts the local server."
      ]
    },
    {
      "cell_type": "code",
      "execution_count": 65,
      "metadata": {},
      "outputs": [
        {
          "name": "stdout",
          "output_type": "stream",
          "text": [
            "Please run the following function only once for each .pbf file. (It takes some time to execute, and consume all the CPU)\n",
            "Found ./countr_pk\\pakistan-latest.osrm file\n",
            "Done, generate a osrm file\n",
            "Please run the following function only once for each .pbf file. (It takes some time to execute, and consume all the CPU)\n",
            "Done, I have generated the local OSRM server with `{server}.run_server()`.\n",
            "The server is running in the background, you can start making queries.\n"
          ]
        },
        {
          "data": {
            "text/plain": [
              "<osrmareas.osrm.Server at 0x2a6b48b2140>"
            ]
          },
          "execution_count": 65,
          "metadata": {},
          "output_type": "execute_result"
        }
      ],
      "source": [
        "# Generate the files\n",
        "pk_server.gen_osrm_1()\n",
        "pk_server.prepare_server_2()\n",
        "\n",
        "# Run the server locally\n",
        "pk_server.run_server()"
      ]
    },
    {
      "cell_type": "markdown",
      "metadata": {},
      "source": [
        "### Calculating Routes and Visualizing\n",
        "\n",
        "The code snippet below calculates a route from a starting point (`from_`) to an ending point (`to_`) and plots it on a map."
      ]
    },
    {
      "cell_type": "code",
      "execution_count": 66,
      "metadata": {},
      "outputs": [
        {
          "data": {
            "text/html": [
              "<div>\n",
              "<style scoped>\n",
              "    .dataframe tbody tr th:only-of-type {\n",
              "        vertical-align: middle;\n",
              "    }\n",
              "\n",
              "    .dataframe tbody tr th {\n",
              "        vertical-align: top;\n",
              "    }\n",
              "\n",
              "    .dataframe thead th {\n",
              "        text-align: right;\n",
              "    }\n",
              "</style>\n",
              "<table border=\"1\" class=\"dataframe\">\n",
              "  <thead>\n",
              "    <tr style=\"text-align: right;\">\n",
              "      <th></th>\n",
              "      <th>geometry</th>\n",
              "      <th>dist_driving_km</th>\n",
              "      <th>dist_eucl_km</th>\n",
              "      <th>dest_lon</th>\n",
              "      <th>dest_lat</th>\n",
              "      <th>origin_lon</th>\n",
              "      <th>origin_lat</th>\n",
              "    </tr>\n",
              "  </thead>\n",
              "  <tbody>\n",
              "    <tr>\n",
              "      <th>0</th>\n",
              "      <td>LINESTRING (70.31306 28.42161, 70.31306 28.421...</td>\n",
              "      <td>2.7467</td>\n",
              "      <td>1.972733</td>\n",
              "      <td>28.408835</td>\n",
              "      <td>70.327077</td>\n",
              "      <td>28.421612</td>\n",
              "      <td>70.313059</td>\n",
              "    </tr>\n",
              "  </tbody>\n",
              "</table>\n",
              "</div>"
            ],
            "text/plain": [
              "                                            geometry  dist_driving_km  \\\n",
              "0  LINESTRING (70.31306 28.42161, 70.31306 28.421...           2.7467   \n",
              "\n",
              "   dist_eucl_km   dest_lon   dest_lat  origin_lon  origin_lat  \n",
              "0      1.972733  28.408835  70.327077   28.421612   70.313059  "
            ]
          },
          "execution_count": 66,
          "metadata": {},
          "output_type": "execute_result"
        }
      ],
      "source": [
        "from osrmareas import areas\n",
        "from_ = [28.421612, 70.313059]\n",
        "to_ = [28.408835, 70.327077]\n",
        "rt = areas.get_osrm_route(from_, to_)\n",
        "rt"
      ]
    },
    {
      "cell_type": "code",
      "execution_count": 67,
      "metadata": {},
      "outputs": [
        {
          "data": {
            "text/plain": [
              "<Axes: >"
            ]
          },
          "execution_count": 67,
          "metadata": {},
          "output_type": "execute_result"
        },
        {
          "data": {
            "image/png": "[encoded data removed]",
            "text/plain": [
              "<Figure size 640x480 with 1 Axes>"
            ]
          },
          "metadata": {},
          "output_type": "display_data"
        }
      ],
      "source": [
        "rt.plot()"
      ]
    },
    {
      "cell_type": "markdown",
      "metadata": {},
      "source": [
        "### Illustrating Grid Routes\n",
        "\n",
        "The subsequent code snippets demonstrate route calculations and visualizations for different grid configurations:\n",
        "\n",
        "1. Radius of 5km and grid size of 2.5km:"
      ]
    },
    {
      "cell_type": "code",
      "execution_count": 68,
      "metadata": {},
      "outputs": [
        {
          "name": "stderr",
          "output_type": "stream",
          "text": [
            "100%|██████████| 16/16 [00:00<00:00, 97.50it/s] \n"
          ]
        },
        {
          "data": {
            "text/plain": [
              "<Axes: >"
            ]
          },
          "execution_count": 68,
          "metadata": {},
          "output_type": "execute_result"
        },
        {
          "data": {
            "image/png": "[encoded data removed]",
            "text/plain": [
              "<Figure size 640x480 with 1 Axes>"
            ]
          },
          "metadata": {},
          "output_type": "display_data"
        }
      ],
      "source": [
        "all_rt_1=areas.get_routes(from_, radius_km=5, grid_km_size= 2.5)\n",
        "all_rt_1.plot()"
      ]
    },
    {
      "cell_type": "markdown",
      "metadata": {},
      "source": [
        "2. Radius of 5km and grid size of 1km:"
      ]
    },
    {
      "cell_type": "code",
      "execution_count": 69,
      "metadata": {},
      "outputs": [
        {
          "name": "stderr",
          "output_type": "stream",
          "text": [
            "100%|██████████| 100/100 [00:00<00:00, 131.97it/s]\n"
          ]
        },
        {
          "data": {
            "text/plain": [
              "<Axes: >"
            ]
          },
          "execution_count": 69,
          "metadata": {},
          "output_type": "execute_result"
        },
        {
          "data": {
            "image/png": "[encoded data removed]",
            "text/plain": [
              "<Figure size 640x480 with 1 Axes>"
            ]
          },
          "metadata": {},
          "output_type": "display_data"
        }
      ],
      "source": [
        "all_rt_2=areas.get_routes(from_, radius_km=5, grid_km_size= 1)\n",
        "all_rt_2.plot()"
      ]
    },
    {
      "cell_type": "markdown",
      "metadata": {},
      "source": [
        "3. Radius of 1km and grid size of 100 meters:"
      ]
    },
    {
      "cell_type": "code",
      "execution_count": 70,
      "metadata": {},
      "outputs": [
        {
          "name": "stderr",
          "output_type": "stream",
          "text": [
            "100%|██████████| 400/400 [00:02<00:00, 162.05it/s]\n"
          ]
        },
        {
          "data": {
            "text/plain": [
              "<Axes: >"
            ]
          },
          "execution_count": 70,
          "metadata": {},
          "output_type": "execute_result"
        },
        {
          "data": {
            "image/png": "[encoded data removed]",
            "text/plain": [
              "<Figure size 640x480 with 1 Axes>"
            ]
          },
          "metadata": {},
          "output_type": "display_data"
        }
      ],
      "source": [
        "all_rt_3=areas.get_routes(from_, radius_km=1, grid_km_size= 0.1)\n",
        "all_rt_3.plot()"
      ]
    },
    {
      "cell_type": "markdown",
      "metadata": {},
      "source": [
        "### Extracting Routes within a Specific Distance\n",
        "\n",
        "Lastly, the code snippet below extracts routes within a specified distance and generates a shapefile representing a market from the centroid of a specific radius."
      ]
    },
    {
      "cell_type": "code",
      "execution_count": 71,
      "metadata": {},
      "outputs": [
        {
          "name": "stderr",
          "output_type": "stream",
          "text": [
            "100%|██████████| 1600/1600 [00:14<00:00, 112.14it/s]\n"
          ]
        },
        {
          "data": {
            "text/plain": [
              "<Axes: >"
            ]
          },
          "execution_count": 71,
          "metadata": {},
          "output_type": "execute_result"
        },
        {
          "data": {
            "image/png": "[encoded data removed]",
            "text/plain": [
              "<Figure size 640x480 with 1 Axes>"
            ]
          },
          "metadata": {},
          "output_type": "display_data"
        }
      ],
      "source": [
        "all_rt_3=areas.get_routes(from_, radius_km=20, grid_km_size= 1)\n",
        "ameba = areas.get_ameba(all_rt_3, max_km = 12, alpha = 80, km_col='dist_driving_km')\n",
        "ameba.plot()"
      ]
    },
    {
      "cell_type": "markdown",
      "metadata": {},
      "source": [
        "This code snippet demonstrates the capabilities of the `osrm_python` package for route calculation and visualization, particularly useful for market analysis and planning.\n",
        "\n",
        "### OSM vs Google Maps API\n",
        "\n",
        "Let's first provide some context for our case. We have approximately 250 markets, each with a radius of about 10km, and the width of the final destination search grid is 100 meters. This means we have 4000 search destinations per market. So, in total, we would have 4000 destinations multiplied by 250 markets, resulting in 1,000,000 destinations.\n",
        "\n",
        "When using the Google Maps API, we have several options to choose from. However, for this case, the required service to subscribe to would be the [SKU: Router: Compute Routes - Basic](https://developers.google.com/maps/documentation/routes/usage-and-billing#routes-basic), which costs 0.004 USD per request. Multiplying this cost by the 1M requests we would need to make would total 4000 USD.\n",
        "\n",
        "In conclusion, using OSRM locally would imply a savings of nearly 4000 USD, not considering the cost of the equipment.\n",
        "\n",
        "# Generate Indicators\n",
        "\n",
        "In this section, we'll outline the process of generating indicators using raster files and shapefiles. First, we'll need to download and prepare the necessary data. Let's break down the steps:"
      ]
    },
    {
      "cell_type": "code",
      "execution_count": 72,
      "metadata": {},
      "outputs": [
        {
          "name": "stdout",
          "output_type": "stream",
          "text": [
            "Convert the country names to lowercase and replace spaces with dashes (-).\n",
            "source: https://download.geofabrik.de/\n"
          ]
        },
        {
          "data": {
            "text/plain": [
              "<osrmareas.downloader.GetPBF at 0x2a6b5ec50c0>"
            ]
          },
          "execution_count": 72,
          "metadata": {},
          "output_type": "execute_result"
        }
      ],
      "source": [
        "# Download PBF file\n",
        "from osrmareas.downloader import GetPBF\n",
        "download = GetPBF()\n",
        "download.country(['pakistan']).get(save_dir='countr_pk')"
      ]
    },
    {
      "cell_type": "code",
      "execution_count": 73,
      "metadata": {},
      "outputs": [
        {
          "name": "stdout",
          "output_type": "stream",
          "text": [
            "Please run the following function only once for each .pbf file. (It takes some time to execute, and consume all the CPU)\n",
            "Found ./countr_pk\\pakistan-latest.osrm file\n",
            "Done, generate a osrm file\n",
            "Please run the following function only once for each .pbf file. (It takes some time to execute, and consume all the CPU)\n",
            "Done, I have generated the local OSRM server with `{server}.run_server()`.\n",
            "The server is running in the background, you can start making queries.\n"
          ]
        },
        {
          "data": {
            "text/plain": [
              "<osrmareas.osrm.Server at 0x2a6b5f482e0>"
            ]
          },
          "execution_count": 73,
          "metadata": {},
          "output_type": "execute_result"
        }
      ],
      "source": [
        "# Set up paths and initialize the server\n",
        "pbf_file = \"pakistan-latest.osm\"  # {country, subregion}-latest.osm\n",
        "pbf_file_path = \"./countr_pk\"\n",
        "\n",
        "from osrmareas.osrm import Server\n",
        "\n",
        "pk_pbf = Server(pbf_file, pbf_file_path)\n",
        "pk_pbf.gen_osrm_1()\n",
        "pk_pbf.prepare_server_2()\n",
        "pk_pbf.run_server()"
      ]
    },
    {
      "cell_type": "markdown",
      "metadata": {},
      "source": [
        "## Step by Step\n",
        "\n",
        "To obtain the metrics, we'll go through four steps. Firstly, we need to crop the raster file according to the shapefile, which represents the market area. This shapefile will be generated based on a centroid to encompass the entire market area. This cropping process ensures that we're extracting observations only from within the market area. Then, we generate the metrics. Since we assume we have a dataframe with data for multiple markets, the interaction must be performed for each market individually, followed by combining the rows of metrics.\n",
        "\n",
        "To illustrate these steps, we'll demonstrate for a single coordinate point and a single raster file.\n"
      ]
    },
    {
      "cell_type": "code",
      "execution_count": 74,
      "metadata": {},
      "outputs": [
        {
          "name": "stderr",
          "output_type": "stream",
          "text": [
            "100%|██████████| 3600/3600 [00:41<00:00, 87.04it/s] \n"
          ]
        },
        {
          "data": {
            "text/plain": [
              "<Axes: >"
            ]
          },
          "execution_count": 74,
          "metadata": {},
          "output_type": "execute_result"
        },
        {
          "data": {
            "image/png": "[encoded data removed]",
            "text/plain": [
              "<Figure size 640x480 with 1 Axes>"
            ]
          },
          "metadata": {},
          "output_type": "display_data"
        }
      ],
      "source": [
        "from osrmareas import areas\n",
        "karachi_ll = [24.910871, 67.030846]\n",
        "karachi_df = areas.get_routes(karachi_ll, radius_km=30, grid_km_size=1)\n",
        "karachi_df_shp = areas.get_ameba(karachi_df, max_km = 30)\n",
        "karachi_df_shp.plot()"
      ]
    },
    {
      "cell_type": "markdown",
      "metadata": {},
      "source": [
        "<!--  -->\n",
        "### Cropping the Raster\n",
        "\n",
        "In this section, we'll demonstrate how to crop a raster file using a shapefile representing the market area."
      ]
    },
    {
      "cell_type": "code",
      "execution_count": 75,
      "metadata": {},
      "outputs": [
        {
          "data": {
            "text/html": [
              "<div>\n",
              "<style scoped>\n",
              "    .dataframe tbody tr th:only-of-type {\n",
              "        vertical-align: middle;\n",
              "    }\n",
              "\n",
              "    .dataframe tbody tr th {\n",
              "        vertical-align: top;\n",
              "    }\n",
              "\n",
              "    .dataframe thead th {\n",
              "        text-align: right;\n",
              "    }\n",
              "</style>\n",
              "<table border=\"1\" class=\"dataframe\">\n",
              "  <thead>\n",
              "    <tr style=\"text-align: right;\">\n",
              "      <th></th>\n",
              "      <th>x</th>\n",
              "      <th>y</th>\n",
              "      <th>z</th>\n",
              "    </tr>\n",
              "  </thead>\n",
              "  <tbody>\n",
              "    <tr>\n",
              "      <th>0</th>\n",
              "      <td>66.783332</td>\n",
              "      <td>25.141667</td>\n",
              "      <td>-3.400000e+38</td>\n",
              "    </tr>\n",
              "    <tr>\n",
              "      <th>1</th>\n",
              "      <td>66.791666</td>\n",
              "      <td>25.141667</td>\n",
              "      <td>-3.400000e+38</td>\n",
              "    </tr>\n",
              "    <tr>\n",
              "      <th>2</th>\n",
              "      <td>66.799999</td>\n",
              "      <td>25.141667</td>\n",
              "      <td>-3.400000e+38</td>\n",
              "    </tr>\n",
              "    <tr>\n",
              "      <th>3</th>\n",
              "      <td>66.808332</td>\n",
              "      <td>25.141667</td>\n",
              "      <td>-3.400000e+38</td>\n",
              "    </tr>\n",
              "    <tr>\n",
              "      <th>4</th>\n",
              "      <td>66.816666</td>\n",
              "      <td>25.141667</td>\n",
              "      <td>-3.400000e+38</td>\n",
              "    </tr>\n",
              "    <tr>\n",
              "      <th>...</th>\n",
              "      <td>...</td>\n",
              "      <td>...</td>\n",
              "      <td>...</td>\n",
              "    </tr>\n",
              "    <tr>\n",
              "      <th>3533</th>\n",
              "      <td>67.249999</td>\n",
              "      <td>24.666667</td>\n",
              "      <td>-3.400000e+38</td>\n",
              "    </tr>\n",
              "    <tr>\n",
              "      <th>3534</th>\n",
              "      <td>67.258332</td>\n",
              "      <td>24.666667</td>\n",
              "      <td>-3.400000e+38</td>\n",
              "    </tr>\n",
              "    <tr>\n",
              "      <th>3535</th>\n",
              "      <td>67.266666</td>\n",
              "      <td>24.666667</td>\n",
              "      <td>-3.400000e+38</td>\n",
              "    </tr>\n",
              "    <tr>\n",
              "      <th>3536</th>\n",
              "      <td>67.274999</td>\n",
              "      <td>24.666667</td>\n",
              "      <td>-3.400000e+38</td>\n",
              "    </tr>\n",
              "    <tr>\n",
              "      <th>3537</th>\n",
              "      <td>67.283332</td>\n",
              "      <td>24.666667</td>\n",
              "      <td>-3.400000e+38</td>\n",
              "    </tr>\n",
              "  </tbody>\n",
              "</table>\n",
              "<p>3538 rows × 3 columns</p>\n",
              "</div>"
            ],
            "text/plain": [
              "              x          y             z\n",
              "0     66.783332  25.141667 -3.400000e+38\n",
              "1     66.791666  25.141667 -3.400000e+38\n",
              "2     66.799999  25.141667 -3.400000e+38\n",
              "3     66.808332  25.141667 -3.400000e+38\n",
              "4     66.816666  25.141667 -3.400000e+38\n",
              "...         ...        ...           ...\n",
              "3533  67.249999  24.666667 -3.400000e+38\n",
              "3534  67.258332  24.666667 -3.400000e+38\n",
              "3535  67.266666  24.666667 -3.400000e+38\n",
              "3536  67.274999  24.666667 -3.400000e+38\n",
              "3537  67.283332  24.666667 -3.400000e+38\n",
              "\n",
              "[3538 rows x 3 columns]"
            ]
          },
          "execution_count": 75,
          "metadata": {},
          "output_type": "execute_result"
        }
      ],
      "source": [
        "raster_path = (\n",
        "    \"../data/8_night_light/pk_night_light_harm.tiff\"  # Path to the raster file\n",
        ")\n",
        "shapefile = karachi_df_shp  # Shapefile representing the market area\n",
        "\n",
        "\n",
        "# Define a function to extract features compatible with rasterio\n",
        "def getFeatures(gdf: gpd.GeoDataFrame):\n",
        "    import json\n",
        "\n",
        "    return [json.loads(gdf.to_json())[\"features\"][0][\"geometry\"]]\n",
        "\n",
        "\n",
        "# Crop the raster file using the shapefile\n",
        "with rio.open(raster_path) as src:\n",
        "    out_image, out_transform = mask(src, getFeatures(shapefile), crop=True)\n",
        "values = out_image.flatten()\n",
        "rows, cols = np.indices(out_image.shape[-2:])\n",
        "x, y = rio.transform.xy(out_transform, rows.flatten(), cols.flatten())\n",
        "\n",
        "# Create a DataFrame with values and coordinates\n",
        "data = {\"x\": x, \"y\": y, \"z\": values}\n",
        "df = pd.DataFrame(data)\n",
        "df"
      ]
    },
    {
      "cell_type": "markdown",
      "metadata": {},
      "source": [
        "### Filtering Observations within the Shapefile\n",
        "\n",
        "Next, we'll filter the observations that fall within the boundaries of the shapefile."
      ]
    },
    {
      "cell_type": "code",
      "execution_count": 76,
      "metadata": {},
      "outputs": [
        {
          "data": {
            "text/html": [
              "<div>\n",
              "<style scoped>\n",
              "    .dataframe tbody tr th:only-of-type {\n",
              "        vertical-align: middle;\n",
              "    }\n",
              "\n",
              "    .dataframe tbody tr th {\n",
              "        vertical-align: top;\n",
              "    }\n",
              "\n",
              "    .dataframe thead th {\n",
              "        text-align: right;\n",
              "    }\n",
              "</style>\n",
              "<table border=\"1\" class=\"dataframe\">\n",
              "  <thead>\n",
              "    <tr style=\"text-align: right;\">\n",
              "      <th></th>\n",
              "      <th>x</th>\n",
              "      <th>y</th>\n",
              "      <th>z</th>\n",
              "      <th>geometry</th>\n",
              "      <th>index_right</th>\n",
              "    </tr>\n",
              "  </thead>\n",
              "  <tbody>\n",
              "    <tr>\n",
              "      <th>30</th>\n",
              "      <td>67.033332</td>\n",
              "      <td>25.141667</td>\n",
              "      <td>7.000000e+00</td>\n",
              "      <td>POINT (67.03333 25.14167)</td>\n",
              "      <td>0</td>\n",
              "    </tr>\n",
              "    <tr>\n",
              "      <th>31</th>\n",
              "      <td>67.041666</td>\n",
              "      <td>25.141667</td>\n",
              "      <td>7.000000e+00</td>\n",
              "      <td>POINT (67.04167 25.14167)</td>\n",
              "      <td>0</td>\n",
              "    </tr>\n",
              "    <tr>\n",
              "      <th>32</th>\n",
              "      <td>67.049999</td>\n",
              "      <td>25.141667</td>\n",
              "      <td>7.000000e+00</td>\n",
              "      <td>POINT (67.05000 25.14167)</td>\n",
              "      <td>0</td>\n",
              "    </tr>\n",
              "    <tr>\n",
              "      <th>33</th>\n",
              "      <td>67.058332</td>\n",
              "      <td>25.141667</td>\n",
              "      <td>7.000000e+00</td>\n",
              "      <td>POINT (67.05833 25.14167)</td>\n",
              "      <td>0</td>\n",
              "    </tr>\n",
              "    <tr>\n",
              "      <th>34</th>\n",
              "      <td>67.066666</td>\n",
              "      <td>25.141667</td>\n",
              "      <td>7.000000e+00</td>\n",
              "      <td>POINT (67.06667 25.14167)</td>\n",
              "      <td>0</td>\n",
              "    </tr>\n",
              "    <tr>\n",
              "      <th>...</th>\n",
              "      <td>...</td>\n",
              "      <td>...</td>\n",
              "      <td>...</td>\n",
              "      <td>...</td>\n",
              "      <td>...</td>\n",
              "    </tr>\n",
              "    <tr>\n",
              "      <th>3465</th>\n",
              "      <td>67.191666</td>\n",
              "      <td>24.675000</td>\n",
              "      <td>-3.400000e+38</td>\n",
              "      <td>POINT (67.19167 24.67500)</td>\n",
              "      <td>0</td>\n",
              "    </tr>\n",
              "    <tr>\n",
              "      <th>3466</th>\n",
              "      <td>67.199999</td>\n",
              "      <td>24.675000</td>\n",
              "      <td>-3.400000e+38</td>\n",
              "      <td>POINT (67.20000 24.67500)</td>\n",
              "      <td>0</td>\n",
              "    </tr>\n",
              "    <tr>\n",
              "      <th>3467</th>\n",
              "      <td>67.208332</td>\n",
              "      <td>24.675000</td>\n",
              "      <td>-3.400000e+38</td>\n",
              "      <td>POINT (67.20833 24.67500)</td>\n",
              "      <td>0</td>\n",
              "    </tr>\n",
              "    <tr>\n",
              "      <th>3468</th>\n",
              "      <td>67.216666</td>\n",
              "      <td>24.675000</td>\n",
              "      <td>-3.400000e+38</td>\n",
              "      <td>POINT (67.21667 24.67500)</td>\n",
              "      <td>0</td>\n",
              "    </tr>\n",
              "    <tr>\n",
              "      <th>3469</th>\n",
              "      <td>67.224999</td>\n",
              "      <td>24.675000</td>\n",
              "      <td>-3.400000e+38</td>\n",
              "      <td>POINT (67.22500 24.67500)</td>\n",
              "      <td>0</td>\n",
              "    </tr>\n",
              "  </tbody>\n",
              "</table>\n",
              "<p>2849 rows × 5 columns</p>\n",
              "</div>"
            ],
            "text/plain": [
              "              x          y             z                   geometry  \\\n",
              "30    67.033332  25.141667  7.000000e+00  POINT (67.03333 25.14167)   \n",
              "31    67.041666  25.141667  7.000000e+00  POINT (67.04167 25.14167)   \n",
              "32    67.049999  25.141667  7.000000e+00  POINT (67.05000 25.14167)   \n",
              "33    67.058332  25.141667  7.000000e+00  POINT (67.05833 25.14167)   \n",
              "34    67.066666  25.141667  7.000000e+00  POINT (67.06667 25.14167)   \n",
              "...         ...        ...           ...                        ...   \n",
              "3465  67.191666  24.675000 -3.400000e+38  POINT (67.19167 24.67500)   \n",
              "3466  67.199999  24.675000 -3.400000e+38  POINT (67.20000 24.67500)   \n",
              "3467  67.208332  24.675000 -3.400000e+38  POINT (67.20833 24.67500)   \n",
              "3468  67.216666  24.675000 -3.400000e+38  POINT (67.21667 24.67500)   \n",
              "3469  67.224999  24.675000 -3.400000e+38  POINT (67.22500 24.67500)   \n",
              "\n",
              "      index_right  \n",
              "30              0  \n",
              "31              0  \n",
              "32              0  \n",
              "33              0  \n",
              "34              0  \n",
              "...           ...  \n",
              "3465            0  \n",
              "3466            0  \n",
              "3467            0  \n",
              "3468            0  \n",
              "3469            0  \n",
              "\n",
              "[2849 rows x 5 columns]"
            ]
          },
          "execution_count": 76,
          "metadata": {},
          "output_type": "execute_result"
        }
      ],
      "source": [
        "points_df = gpd.GeoDataFrame(df, geometry=gpd.points_from_xy(df[\"x\"], df[\"y\"])).set_crs(\n",
        "    epsg=4326\n",
        ")\n",
        "points_inside = gpd.sjoin(points_df, shapefile, how=\"inner\", op=\"within\")\n",
        "points_inside"
      ]
    },
    {
      "cell_type": "markdown",
      "metadata": {},
      "source": [
        "Visualize to verify correspondence with the cropped shapefile."
      ]
    },
    {
      "cell_type": "code",
      "execution_count": 77,
      "metadata": {},
      "outputs": [
        {
          "data": {
            "text/plain": [
              "<Axes: >"
            ]
          },
          "execution_count": 77,
          "metadata": {},
          "output_type": "execute_result"
        },
        {
          "data": {
            "image/png": "[encoded data removed]",
            "text/plain": [
              "<Figure size 640x480 with 1 Axes>"
            ]
          },
          "metadata": {},
          "output_type": "display_data"
        }
      ],
      "source": [
        "points_inside.plot()"
      ]
    },
    {
      "cell_type": "markdown",
      "metadata": {},
      "source": [
        "### Metrics\n",
        "\n",
        "For this case, we'll compute metrics including mean, standard deviation, and sum."
      ]
    },
    {
      "cell_type": "code",
      "execution_count": 78,
      "metadata": {},
      "outputs": [
        {
          "data": {
            "text/html": [
              "<div>\n",
              "<style scoped>\n",
              "    .dataframe tbody tr th:only-of-type {\n",
              "        vertical-align: middle;\n",
              "    }\n",
              "\n",
              "    .dataframe tbody tr th {\n",
              "        vertical-align: top;\n",
              "    }\n",
              "\n",
              "    .dataframe thead th {\n",
              "        text-align: right;\n",
              "    }\n",
              "</style>\n",
              "<table border=\"1\" class=\"dataframe\">\n",
              "  <thead>\n",
              "    <tr style=\"text-align: right;\">\n",
              "      <th></th>\n",
              "      <th>geometry</th>\n",
              "      <th>nightlight_mean</th>\n",
              "      <th>nightlight_sd</th>\n",
              "      <th>nightlight_sum</th>\n",
              "    </tr>\n",
              "  </thead>\n",
              "  <tbody>\n",
              "    <tr>\n",
              "      <th>0</th>\n",
              "      <td>POLYGON ((66.78381 24.67029, 66.78381 24.85790...</td>\n",
              "      <td>-inf</td>\n",
              "      <td>inf</td>\n",
              "      <td>-inf</td>\n",
              "    </tr>\n",
              "  </tbody>\n",
              "</table>\n",
              "</div>"
            ],
            "text/plain": [
              "                                            geometry  nightlight_mean  \\\n",
              "0  POLYGON ((66.78381 24.67029, 66.78381 24.85790...             -inf   \n",
              "\n",
              "   nightlight_sd  nightlight_sum  \n",
              "0            inf            -inf  "
            ]
          },
          "execution_count": 78,
          "metadata": {},
          "output_type": "execute_result"
        }
      ],
      "source": [
        "import numpy as np\n",
        "\n",
        "target_name = \"nightlight\"\n",
        "\n",
        "# Define the metrics\n",
        "metrics = [np.mean, np.std, np.sum]\n",
        "points_result = points_inside.dropna(subset=[\"z\"])\n",
        "stats = points_result[\"z\"].agg(metrics).values.flatten()\n",
        "\n",
        "# Assign computed metrics to the shapefile\n",
        "(\n",
        "    shapefile[f\"{target_name}_mean\"],\n",
        "    shapefile[f\"{target_name}_sd\"],\n",
        "    shapefile[f\"{target_name}_sum\"],\n",
        ") = stats\n",
        "shapefile"
      ]
    },
    {
      "cell_type": "markdown",
      "metadata": {},
      "source": [
        "<!--  -->\n",
        "\n",
        "\n",
        "\n",
        "<!--  -->\n",
        "### Join All in a Function\n",
        "\n",
        "To ensure reusability, let's encapsulate the previous procedure into a function that ultimately returns a DataFrame containing the geometry of the shapefile along with its metrics."
      ]
    },
    {
      "cell_type": "code",
      "execution_count": 79,
      "metadata": {},
      "outputs": [],
      "source": [
        "def metric_result(\n",
        "    centroid_from,\n",
        "    path_raster: str,\n",
        "    radius_km=4,\n",
        "    grid_km=1,\n",
        "    target_name=\"metrics\",\n",
        "    metrics=[np.mean, np.std, np.sum],\n",
        "):\n",
        "    # Generate a shapefile\n",
        "    routes = areas.get_routes(centroid_from, radius_km=radius_km, grid_km_size=grid_km)\n",
        "    shapefile = areas.get_ameba(routes, max_km=radius_km)\n",
        "\n",
        "    # Crop the raster\n",
        "    with rio.open(path_raster) as src:\n",
        "        out_image, out_transform = mask(src, getFeatures(shapefile), crop=True)\n",
        "\n",
        "    values = out_image.flatten()\n",
        "    rows, cols = np.indices(out_image.shape[-2:])\n",
        "    x, y = rio.transform.xy(out_transform, rows.flatten(), cols.flatten())\n",
        "\n",
        "    data = {\"x\": x, \"y\": y, \"z\": values}\n",
        "    df = pd.DataFrame(data)\n",
        "\n",
        "    # Points inside\n",
        "    points_df = gpd.GeoDataFrame(\n",
        "        df, geometry=gpd.points_from_xy(df[\"x\"], df[\"y\"])\n",
        "    ).set_crs(epsg=4326)\n",
        "    points_inside = gpd.sjoin(points_df, shapefile, how=\"inner\", op=\"within\")\n",
        "\n",
        "    # Generate Metrics\n",
        "    points_result = points_inside.dropna(subset=[\"z\"])\n",
        "    stats = points_result[\"z\"].agg(metrics).values.flatten()\n",
        "\n",
        "    (\n",
        "        shapefile[f\"{target_name}_mean\"],\n",
        "        shapefile[f\"{target_name}_sd\"],\n",
        "        shapefile[f\"{target_name}_sum\"],\n",
        "    ) = stats\n",
        "\n",
        "    return shapefile"
      ]
    },
    {
      "cell_type": "markdown",
      "metadata": {},
      "source": [
        "Now, let's test it with other coordinates."
      ]
    },
    {
      "cell_type": "code",
      "execution_count": 80,
      "metadata": {},
      "outputs": [
        {
          "name": "stderr",
          "output_type": "stream",
          "text": [
            "100%|██████████| 64/64 [00:00<00:00, 119.38it/s]\n",
            "100%|██████████| 64/64 [00:00<00:00, 132.95it/s]\n",
            "100%|██████████| 64/64 [00:00<00:00, 124.51it/s]\n",
            "100%|██████████| 64/64 [00:00<00:00, 126.74it/s]\n"
          ]
        }
      ],
      "source": [
        "centroides_pk = [\n",
        "    [24.951004, 66.985305],\n",
        "    [24.910871, 67.030846],\n",
        "    [24.958856, 67.040013],\n",
        "    [24.933989, 67.107785],\n",
        "]\n",
        "\n",
        "metric_df = gpd.GeoDataFrame()\n",
        "for centroid in centroides_pk:\n",
        "    result = metric_result(centroid, path_raster=raster_path)\n",
        "    metric_df = pd.concat((metric_df, result))"
      ]
    },
    {
      "cell_type": "code",
      "execution_count": 81,
      "metadata": {},
      "outputs": [
        {
          "data": {
            "text/plain": [
              "<Axes: >"
            ]
          },
          "execution_count": 81,
          "metadata": {},
          "output_type": "execute_result"
        },
        {
          "data": {
            "image/png": "[encoded data removed]",
            "text/plain": [
              "<Figure size 640x480 with 1 Axes>"
            ]
          },
          "metadata": {},
          "output_type": "display_data"
        }
      ],
      "source": [
        "metric_df.plot(column='metrics_mean')"
      ]
    },
    {
      "cell_type": "markdown",
      "metadata": {},
      "source": [
        "In conclusion, to obtain metrics, you need the centroid coordinates, the path to the raster file, the radius of the raster file, the grid width explained in the first part, and lastly, a prefix name for the columns to facilitate merging multiple databases.\n",
        "<!--  -->\n",
        "\n",
        "\n",
        "\n",
        "<!--  -->\n",
        "## Other Metrics\n",
        "\n",
        "To streamline the process mentioned earlier, we can use a function that takes the aforementioned parameters as inputs."
      ]
    },
    {
      "cell_type": "code",
      "execution_count": 82,
      "metadata": {},
      "outputs": [],
      "source": [
        "def metric_df_calculate(centroids, raster_path, **kwargs):\n",
        "    metric_df = gpd.GeoDataFrame()\n",
        "    for centroid in centroids:\n",
        "        result = metric_result(centroid, raster_path, **kwargs)\n",
        "        metric_df = pd.concat((metric_df, result))\n",
        "    return metric_df"
      ]
    },
    {
      "cell_type": "markdown",
      "metadata": {},
      "source": [
        "### Nightlight\n",
        "\n",
        "#### Harm \n",
        "\n",
        "Nightlight data can provide insights into urbanization and economic activity. Let's calculate metrics for the \"Harm\" version of nightlight data."
      ]
    },
    {
      "cell_type": "code",
      "execution_count": 83,
      "metadata": {},
      "outputs": [
        {
          "name": "stderr",
          "output_type": "stream",
          "text": [
            "100%|██████████| 64/64 [00:00<00:00, 121.13it/s]\n",
            "100%|██████████| 64/64 [00:00<00:00, 141.86it/s]\n",
            "100%|██████████| 64/64 [00:00<00:00, 123.12it/s]\n",
            "100%|██████████| 64/64 [00:00<00:00, 132.73it/s]\n"
          ]
        },
        {
          "data": {
            "text/html": [
              "<div>\n",
              "<style scoped>\n",
              "    .dataframe tbody tr th:only-of-type {\n",
              "        vertical-align: middle;\n",
              "    }\n",
              "\n",
              "    .dataframe tbody tr th {\n",
              "        vertical-align: top;\n",
              "    }\n",
              "\n",
              "    .dataframe thead th {\n",
              "        text-align: right;\n",
              "    }\n",
              "</style>\n",
              "<table border=\"1\" class=\"dataframe\">\n",
              "  <thead>\n",
              "    <tr style=\"text-align: right;\">\n",
              "      <th></th>\n",
              "      <th>geometry</th>\n",
              "      <th>nightlight_harm_mean</th>\n",
              "      <th>nightlight_harm_sd</th>\n",
              "      <th>nightlight_harm_sum</th>\n",
              "    </tr>\n",
              "  </thead>\n",
              "  <tbody>\n",
              "    <tr>\n",
              "      <th>0</th>\n",
              "      <td>POLYGON ((66.98081 24.93064, 66.96285 24.93879...</td>\n",
              "      <td>62.538460</td>\n",
              "      <td>0.706018</td>\n",
              "      <td>1626.0</td>\n",
              "    </tr>\n",
              "    <tr>\n",
              "      <th>0</th>\n",
              "      <td>POLYGON ((67.02635 24.88235, 66.99940 24.89865...</td>\n",
              "      <td>63.000000</td>\n",
              "      <td>0.000000</td>\n",
              "      <td>2079.0</td>\n",
              "    </tr>\n",
              "    <tr>\n",
              "      <th>0</th>\n",
              "      <td>POLYGON ((67.01756 24.93849, 67.01756 24.95478...</td>\n",
              "      <td>62.869564</td>\n",
              "      <td>0.344350</td>\n",
              "      <td>1446.0</td>\n",
              "    </tr>\n",
              "    <tr>\n",
              "      <th>0</th>\n",
              "      <td>POLYGON ((67.09431 24.91362, 67.08533 24.92177...</td>\n",
              "      <td>62.882355</td>\n",
              "      <td>0.332106</td>\n",
              "      <td>1069.0</td>\n",
              "    </tr>\n",
              "  </tbody>\n",
              "</table>\n",
              "</div>"
            ],
            "text/plain": [
              "                                            geometry  nightlight_harm_mean  \\\n",
              "0  POLYGON ((66.98081 24.93064, 66.96285 24.93879...             62.538460   \n",
              "0  POLYGON ((67.02635 24.88235, 66.99940 24.89865...             63.000000   \n",
              "0  POLYGON ((67.01756 24.93849, 67.01756 24.95478...             62.869564   \n",
              "0  POLYGON ((67.09431 24.91362, 67.08533 24.92177...             62.882355   \n",
              "\n",
              "   nightlight_harm_sd  nightlight_harm_sum  \n",
              "0            0.706018               1626.0  \n",
              "0            0.000000               2079.0  \n",
              "0            0.344350               1446.0  \n",
              "0            0.332106               1069.0  "
            ]
          },
          "execution_count": 83,
          "metadata": {},
          "output_type": "execute_result"
        }
      ],
      "source": [
        "r_path = \"../data/8_night_light/pk_night_light_harm.tiff\"\n",
        "name_col = \"nightlight_harm\"\n",
        "metric_df_calculate(centroides_pk, raster_path=r_path, target_name=name_col)"
      ]
    },
    {
      "cell_type": "markdown",
      "metadata": {},
      "source": [
        "#### Original\n",
        "\n",
        "Now, let's compute metrics for the original nightlight data."
      ]
    },
    {
      "cell_type": "code",
      "execution_count": 84,
      "metadata": {},
      "outputs": [
        {
          "name": "stderr",
          "output_type": "stream",
          "text": [
            "100%|██████████| 64/64 [00:00<00:00, 120.72it/s]\n",
            "100%|██████████| 64/64 [00:00<00:00, 137.75it/s]\n",
            "100%|██████████| 64/64 [00:00<00:00, 117.24it/s]\n",
            "100%|██████████| 64/64 [00:00<00:00, 131.30it/s]\n"
          ]
        },
        {
          "data": {
            "text/html": [
              "<div>\n",
              "<style scoped>\n",
              "    .dataframe tbody tr th:only-of-type {\n",
              "        vertical-align: middle;\n",
              "    }\n",
              "\n",
              "    .dataframe tbody tr th {\n",
              "        vertical-align: top;\n",
              "    }\n",
              "\n",
              "    .dataframe thead th {\n",
              "        text-align: right;\n",
              "    }\n",
              "</style>\n",
              "<table border=\"1\" class=\"dataframe\">\n",
              "  <thead>\n",
              "    <tr style=\"text-align: right;\">\n",
              "      <th></th>\n",
              "      <th>geometry</th>\n",
              "      <th>nightlight_mean</th>\n",
              "      <th>nightlight_sd</th>\n",
              "      <th>nightlight_sum</th>\n",
              "    </tr>\n",
              "  </thead>\n",
              "  <tbody>\n",
              "    <tr>\n",
              "      <th>0</th>\n",
              "      <td>POLYGON ((66.98081 24.93064, 66.96285 24.93879...</td>\n",
              "      <td>37.389423</td>\n",
              "      <td>9.111515</td>\n",
              "      <td>3551.995361</td>\n",
              "    </tr>\n",
              "    <tr>\n",
              "      <th>0</th>\n",
              "      <td>POLYGON ((67.02635 24.88235, 66.99940 24.89865...</td>\n",
              "      <td>45.842979</td>\n",
              "      <td>8.936888</td>\n",
              "      <td>6051.273438</td>\n",
              "    </tr>\n",
              "    <tr>\n",
              "      <th>0</th>\n",
              "      <td>POLYGON ((67.01756 24.93849, 67.01756 24.95478...</td>\n",
              "      <td>41.734932</td>\n",
              "      <td>13.678473</td>\n",
              "      <td>3714.408936</td>\n",
              "    </tr>\n",
              "    <tr>\n",
              "      <th>0</th>\n",
              "      <td>POLYGON ((67.09431 24.91362, 67.08533 24.92177...</td>\n",
              "      <td>33.580753</td>\n",
              "      <td>8.758814</td>\n",
              "      <td>2451.395020</td>\n",
              "    </tr>\n",
              "  </tbody>\n",
              "</table>\n",
              "</div>"
            ],
            "text/plain": [
              "                                            geometry  nightlight_mean  \\\n",
              "0  POLYGON ((66.98081 24.93064, 66.96285 24.93879...        37.389423   \n",
              "0  POLYGON ((67.02635 24.88235, 66.99940 24.89865...        45.842979   \n",
              "0  POLYGON ((67.01756 24.93849, 67.01756 24.95478...        41.734932   \n",
              "0  POLYGON ((67.09431 24.91362, 67.08533 24.92177...        33.580753   \n",
              "\n",
              "   nightlight_sd  nightlight_sum  \n",
              "0       9.111515     3551.995361  \n",
              "0       8.936888     6051.273438  \n",
              "0      13.678473     3714.408936  \n",
              "0       8.758814     2451.395020  "
            ]
          },
          "execution_count": 84,
          "metadata": {},
          "output_type": "execute_result"
        }
      ],
      "source": [
        "r_path = '../data/8_night_light/pk_night_light.tiff'\n",
        "name_col = \"nightlight\"\n",
        "metric_df_calculate(centroides_pk, raster_path = r_path, target_name=name_col)"
      ]
    },
    {
      "cell_type": "markdown",
      "metadata": {},
      "source": [
        "### Population\n",
        "\n",
        "Population density is a crucial indicator for various analyses. Let's calculate metrics based on population data."
      ]
    },
    {
      "cell_type": "code",
      "execution_count": 85,
      "metadata": {},
      "outputs": [
        {
          "name": "stderr",
          "output_type": "stream",
          "text": [
            "100%|██████████| 64/64 [00:00<00:00, 111.63it/s]\n",
            "100%|██████████| 64/64 [00:00<00:00, 127.79it/s]\n",
            "100%|██████████| 64/64 [00:00<00:00, 117.21it/s]\n",
            "100%|██████████| 64/64 [00:00<00:00, 112.17it/s]\n"
          ]
        },
        {
          "data": {
            "text/html": [
              "<div>\n",
              "<style scoped>\n",
              "    .dataframe tbody tr th:only-of-type {\n",
              "        vertical-align: middle;\n",
              "    }\n",
              "\n",
              "    .dataframe tbody tr th {\n",
              "        vertical-align: top;\n",
              "    }\n",
              "\n",
              "    .dataframe thead th {\n",
              "        text-align: right;\n",
              "    }\n",
              "</style>\n",
              "<table border=\"1\" class=\"dataframe\">\n",
              "  <thead>\n",
              "    <tr style=\"text-align: right;\">\n",
              "      <th></th>\n",
              "      <th>geometry</th>\n",
              "      <th>population_mean</th>\n",
              "      <th>population_sd</th>\n",
              "      <th>population_sum</th>\n",
              "    </tr>\n",
              "  </thead>\n",
              "  <tbody>\n",
              "    <tr>\n",
              "      <th>0</th>\n",
              "      <td>POLYGON ((66.98081 24.93064, 66.96285 24.93879...</td>\n",
              "      <td>8332.324219</td>\n",
              "      <td>1757.787231</td>\n",
              "      <td>1.916435e+05</td>\n",
              "    </tr>\n",
              "    <tr>\n",
              "      <th>0</th>\n",
              "      <td>POLYGON ((67.02635 24.88235, 66.99940 24.89865...</td>\n",
              "      <td>40848.847656</td>\n",
              "      <td>11281.851562</td>\n",
              "      <td>1.348012e+06</td>\n",
              "    </tr>\n",
              "    <tr>\n",
              "      <th>0</th>\n",
              "      <td>POLYGON ((67.01756 24.93849, 67.01756 24.95478...</td>\n",
              "      <td>29824.935547</td>\n",
              "      <td>15117.108398</td>\n",
              "      <td>7.754483e+05</td>\n",
              "    </tr>\n",
              "    <tr>\n",
              "      <th>0</th>\n",
              "      <td>POLYGON ((67.09431 24.91362, 67.08533 24.92177...</td>\n",
              "      <td>20428.244141</td>\n",
              "      <td>8269.201172</td>\n",
              "      <td>3.881366e+05</td>\n",
              "    </tr>\n",
              "  </tbody>\n",
              "</table>\n",
              "</div>"
            ],
            "text/plain": [
              "                                            geometry  population_mean  \\\n",
              "0  POLYGON ((66.98081 24.93064, 66.96285 24.93879...      8332.324219   \n",
              "0  POLYGON ((67.02635 24.88235, 66.99940 24.89865...     40848.847656   \n",
              "0  POLYGON ((67.01756 24.93849, 67.01756 24.95478...     29824.935547   \n",
              "0  POLYGON ((67.09431 24.91362, 67.08533 24.92177...     20428.244141   \n",
              "\n",
              "   population_sd  population_sum  \n",
              "0    1757.787231    1.916435e+05  \n",
              "0   11281.851562    1.348012e+06  \n",
              "0   15117.108398    7.754483e+05  \n",
              "0    8269.201172    3.881366e+05  "
            ]
          },
          "execution_count": 85,
          "metadata": {},
          "output_type": "execute_result"
        }
      ],
      "source": [
        "pop_tif = \"../data/1_density/pak_ppp_2018_1km_Aggregated.tif\"\n",
        "name_col = \"population\"\n",
        "metric_df_calculate(centroides_pk, pop_tif, target_name=name_col)"
      ]
    },
    {
      "cell_type": "markdown",
      "metadata": {},
      "source": [
        "### Motor\n",
        "\n",
        "Friction surfaces, such as motorized friction, can indicate the ease of travel. Let's analyze motorized friction data."
      ]
    },
    {
      "cell_type": "code",
      "execution_count": 86,
      "metadata": {},
      "outputs": [
        {
          "name": "stderr",
          "output_type": "stream",
          "text": [
            "100%|██████████| 64/64 [00:00<00:00, 114.70it/s]\n",
            "100%|██████████| 64/64 [00:00<00:00, 122.59it/s]\n",
            "100%|██████████| 64/64 [00:00<00:00, 115.21it/s]\n",
            "100%|██████████| 64/64 [00:00<00:00, 123.04it/s]\n"
          ]
        },
        {
          "data": {
            "text/html": [
              "<div>\n",
              "<style scoped>\n",
              "    .dataframe tbody tr th:only-of-type {\n",
              "        vertical-align: middle;\n",
              "    }\n",
              "\n",
              "    .dataframe tbody tr th {\n",
              "        vertical-align: top;\n",
              "    }\n",
              "\n",
              "    .dataframe thead th {\n",
              "        text-align: right;\n",
              "    }\n",
              "</style>\n",
              "<table border=\"1\" class=\"dataframe\">\n",
              "  <thead>\n",
              "    <tr style=\"text-align: right;\">\n",
              "      <th></th>\n",
              "      <th>geometry</th>\n",
              "      <th>motor_mean</th>\n",
              "      <th>motor_sd</th>\n",
              "      <th>motor_sum</th>\n",
              "    </tr>\n",
              "  </thead>\n",
              "  <tbody>\n",
              "    <tr>\n",
              "      <th>0</th>\n",
              "      <td>POLYGON ((66.98081 24.93064, 66.96285 24.93879...</td>\n",
              "      <td>0.00093</td>\n",
              "      <td>0.000196</td>\n",
              "      <td>0.0214</td>\n",
              "    </tr>\n",
              "    <tr>\n",
              "      <th>0</th>\n",
              "      <td>POLYGON ((67.02635 24.88235, 66.99940 24.89865...</td>\n",
              "      <td>0.00080</td>\n",
              "      <td>0.000217</td>\n",
              "      <td>0.0264</td>\n",
              "    </tr>\n",
              "    <tr>\n",
              "      <th>0</th>\n",
              "      <td>POLYGON ((67.01756 24.93849, 67.01756 24.95478...</td>\n",
              "      <td>0.00110</td>\n",
              "      <td>0.000227</td>\n",
              "      <td>0.0231</td>\n",
              "    </tr>\n",
              "    <tr>\n",
              "      <th>0</th>\n",
              "      <td>POLYGON ((67.09431 24.91362, 67.08533 24.92177...</td>\n",
              "      <td>0.00092</td>\n",
              "      <td>0.000154</td>\n",
              "      <td>0.0184</td>\n",
              "    </tr>\n",
              "  </tbody>\n",
              "</table>\n",
              "</div>"
            ],
            "text/plain": [
              "                                            geometry  motor_mean  motor_sd  \\\n",
              "0  POLYGON ((66.98081 24.93064, 66.96285 24.93879...     0.00093  0.000196   \n",
              "0  POLYGON ((67.02635 24.88235, 66.99940 24.89865...     0.00080  0.000217   \n",
              "0  POLYGON ((67.01756 24.93849, 67.01756 24.95478...     0.00110  0.000227   \n",
              "0  POLYGON ((67.09431 24.91362, 67.08533 24.92177...     0.00092  0.000154   \n",
              "\n",
              "   motor_sum  \n",
              "0     0.0214  \n",
              "0     0.0264  \n",
              "0     0.0231  \n",
              "0     0.0184  "
            ]
          },
          "execution_count": 86,
          "metadata": {},
          "output_type": "execute_result"
        }
      ],
      "source": [
        "motor_tif = \"../data/5_friction_surface/2020_motorized_friction_surface.geotiff\"\n",
        "motor_name = \"motor\"\n",
        "metric_df_calculate(centroides_pk, motor_tif, target_name=motor_name)"
      ]
    },
    {
      "cell_type": "markdown",
      "metadata": {},
      "source": [
        "### Altitude\n",
        "\n",
        "Altitude data provides valuable insights into terrain characteristics. Let's compute altitude metrics."
      ]
    },
    {
      "cell_type": "code",
      "execution_count": 87,
      "metadata": {},
      "outputs": [
        {
          "name": "stderr",
          "output_type": "stream",
          "text": [
            "100%|██████████| 64/64 [00:00<00:00, 117.85it/s]\n",
            "100%|██████████| 64/64 [00:00<00:00, 130.55it/s]\n",
            "100%|██████████| 64/64 [00:00<00:00, 109.04it/s]\n",
            "100%|██████████| 64/64 [00:00<00:00, 126.16it/s]\n"
          ]
        },
        {
          "data": {
            "text/html": [
              "<div>\n",
              "<style scoped>\n",
              "    .dataframe tbody tr th:only-of-type {\n",
              "        vertical-align: middle;\n",
              "    }\n",
              "\n",
              "    .dataframe tbody tr th {\n",
              "        vertical-align: top;\n",
              "    }\n",
              "\n",
              "    .dataframe thead th {\n",
              "        text-align: right;\n",
              "    }\n",
              "</style>\n",
              "<table border=\"1\" class=\"dataframe\">\n",
              "  <thead>\n",
              "    <tr style=\"text-align: right;\">\n",
              "      <th></th>\n",
              "      <th>geometry</th>\n",
              "      <th>altitude_mean</th>\n",
              "      <th>altitude_sd</th>\n",
              "      <th>altitude_sum</th>\n",
              "    </tr>\n",
              "  </thead>\n",
              "  <tbody>\n",
              "    <tr>\n",
              "      <th>0</th>\n",
              "      <td>POLYGON ((66.98081 24.93064, 66.96285 24.93879...</td>\n",
              "      <td>64.127129</td>\n",
              "      <td>11.175416</td>\n",
              "      <td>161921.0</td>\n",
              "    </tr>\n",
              "    <tr>\n",
              "      <th>0</th>\n",
              "      <td>POLYGON ((67.02635 24.88235, 66.99940 24.89865...</td>\n",
              "      <td>25.073862</td>\n",
              "      <td>6.582567</td>\n",
              "      <td>83170.0</td>\n",
              "    </tr>\n",
              "    <tr>\n",
              "      <th>0</th>\n",
              "      <td>POLYGON ((67.01756 24.93849, 67.01756 24.95478...</td>\n",
              "      <td>63.665825</td>\n",
              "      <td>15.961967</td>\n",
              "      <td>151461.0</td>\n",
              "    </tr>\n",
              "    <tr>\n",
              "      <th>0</th>\n",
              "      <td>POLYGON ((67.09431 24.91362, 67.08533 24.92177...</td>\n",
              "      <td>44.649883</td>\n",
              "      <td>7.974960</td>\n",
              "      <td>77155.0</td>\n",
              "    </tr>\n",
              "  </tbody>\n",
              "</table>\n",
              "</div>"
            ],
            "text/plain": [
              "                                            geometry  altitude_mean  \\\n",
              "0  POLYGON ((66.98081 24.93064, 66.96285 24.93879...      64.127129   \n",
              "0  POLYGON ((67.02635 24.88235, 66.99940 24.89865...      25.073862   \n",
              "0  POLYGON ((67.01756 24.93849, 67.01756 24.95478...      63.665825   \n",
              "0  POLYGON ((67.09431 24.91362, 67.08533 24.92177...      44.649883   \n",
              "\n",
              "   altitude_sd  altitude_sum  \n",
              "0    11.175416      161921.0  \n",
              "0     6.582567       83170.0  \n",
              "0    15.961967      151461.0  \n",
              "0     7.974960       77155.0  "
            ]
          },
          "execution_count": 87,
          "metadata": {},
          "output_type": "execute_result"
        }
      ],
      "source": [
        "srtm_tif = \"../data/6_srtm/PK_srtm.tif\"\n",
        "name_col = \"altitude\"\n",
        "metric_df_calculate(centroides_pk, srtm_tif, target_name=name_col)"
      ]
    },
    {
      "cell_type": "markdown",
      "metadata": {},
      "source": [
        "These functions allow for efficient computation of various metrics, providing valuable information for spatial analysis and decision-making.\n",
        "<!--  -->"
      ]
    }
  ],
  "metadata": {
    "kernelspec": {
      "display_name": "py3_github_update",
      "language": "python",
      "name": "py3_github_update"
    }
  },
  "nbformat": 4,
  "nbformat_minor": 4
}
