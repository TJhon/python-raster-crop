{
  "cells": [
    {
      "cell_type": "markdown",
      "metadata": {},
      "source": [
        "# Market Areas Indicators creations using Raster Data\n",
        "\n",
        "## Create market areas\n",
        "\n",
        "### How does it work?\n",
        "\n",
        "Considering the initial reference point (the centroid) of the market, a market with a radius `r` is generated, which is represented within a square, taking into account the width of the `grid` (in km) that you want to calculate.\n"
      ]
    },
    {
      "cell_type": "code",
      "metadata": {},
      "source": [
        "import requests, pandas as pd, alphashape\n",
        "from tqdm import tqdm\n",
        "import geopandas as gpd, numpy as np\n",
        "from shapely.geometry import LineString, Point\n",
        "from shapely.geometry import Polygon\n",
        "import geopy.distance\n",
        "import warnings \n",
        "import pandas as pd, numpy as np\n",
        "import geopandas as gpd, rasterio as rio\n",
        "from rasterio.mask import mask\n",
        "\n",
        "\n",
        "warnings.filterwarnings('ignore')\n",
        "\n",
        "ecl_dist = geopy.distance.geodesic\n",
        "\n",
        "crs_moll='EPSG:3857'\n",
        "crs_lat='EPSG:4326'"
      ],
      "execution_count": null,
      "outputs": []
    },
    {
      "cell_type": "markdown",
      "metadata": {},
      "source": [
        "For example, if we slightly modify the code from [`make_grid`](https://github.com/alexanderquispe/osrm_python/blob/main/osrmareas/areas.py)"
      ]
    },
    {
      "cell_type": "code",
      "metadata": {},
      "source": [
        "import matplotlib.pyplot as plt\n",
        "\n",
        "\n",
        "def destination(x, y, size_grid):\n",
        "    coords_pol = [\n",
        "        (x, y),\n",
        "        (x + size_grid, y),\n",
        "        (x + size_grid, y + size_grid),\n",
        "        (x, y + size_grid),\n",
        "    ]\n",
        "    center = size_grid / 2\n",
        "    coords_center = [x + center, y + center]\n",
        "    return coords_center\n",
        "\n",
        "from_ =[24.933989, 67.107785]\n",
        "def generate_grid(center_lat_long = from_ , radius_km=5, grid_km_size=2.5):\n",
        "\n",
        "    n_grid = radius_km / grid_km_size * 2\n",
        "\n",
        "    center = list(reversed(center_lat_long))\n",
        "    radius_km = radius_km * 1000\n",
        "    initial_center = Point(center)\n",
        "\n",
        "    point_c = gpd.GeoSeries(initial_center, crs=crs_lat).to_crs(crs_moll)\n",
        "    point_center = point_c.buffer(radius_km, cap_style=3)\n",
        "\n",
        "    minX, minY, maxX, maxY = point_center.total_bounds\n",
        "    size_grid_km = (maxY - minY) / n_grid\n",
        "    cols_grid = list(np.arange(minX, maxX, size_grid_km))\n",
        "    rows_grid = list(np.arange(minY, maxY, size_grid_km))\n",
        "\n",
        "    x_destinations = []\n",
        "    y_destinations = []\n",
        "\n",
        "    plt.figure(figsize=(6, 6))\n",
        "\n",
        "    for x in cols_grid:\n",
        "        for y in rows_grid:\n",
        "            final = destination(x, y, size_grid_km)\n",
        "            x_destinations.append(final[0])\n",
        "            y_destinations.append(final[1])\n",
        "\n",
        "    ax = plt.gca()\n",
        "    point_c_moll = point_c.bounds[[\"minx\", \"miny\"]].T.values\n",
        "\n",
        "    for i in range(len(cols_grid)):\n",
        "        plt.axhline(y=rows_grid[i])\n",
        "        plt.axvline(x=cols_grid[i])\n",
        "\n",
        "    plt.scatter(point_c_moll[0][0], point_c_moll[1][0], color=\"red\", s=200)\n",
        "\n",
        "    plt.scatter(x_destinations, y_destinations)\n",
        "    plt.axis(\"off\")\n",
        "\n",
        "    ax.set_xlim((minX, maxX))\n",
        "    ax.set_ylim((minY, maxY))\n",
        "    plt.show()\n",
        "\n",
        "    print(len(y_destinations))"
      ],
      "execution_count": null,
      "outputs": []
    },
    {
      "cell_type": "markdown",
      "metadata": {},
      "source": [
        "In the provided code snippets, the function `generate_grid` is called with different parameters to create grids for different market scenarios. Let's elaborate on each scenario:\n",
        "\n",
        "- For a market with a radius of 5km and a grid size of 2.5km:\n"
      ]
    },
    {
      "cell_type": "code",
      "metadata": {},
      "source": [
        "generate_grid(radius_km=5, grid_km_size=2.5)"
      ],
      "execution_count": null,
      "outputs": []
    },
    {
      "cell_type": "markdown",
      "metadata": {},
      "source": [
        "This function call generates a grid where each grid cell covers an area of 2.5km x 2.5km within the 5km radius of the market. With this configuration, there would be 16 final destination points.\n",
        "\n",
        "- For a market with a radius of 5km and a grid size of 1km:"
      ]
    },
    {
      "cell_type": "code",
      "metadata": {},
      "source": [
        "generate_grid(radius_km=5, grid_km_size=1)"
      ],
      "execution_count": null,
      "outputs": []
    },
    {
      "cell_type": "markdown",
      "metadata": {},
      "source": [
        "In this scenario, each grid cell covers an area of 1km x 1km within the 5km radius. Consequently, there would be 100 final destination points.\n",
        "\n",
        "- For a grid cell size of 100 meters and a market radius of 1km:"
      ]
    },
    {
      "cell_type": "code",
      "metadata": {},
      "source": [
        "generate_grid(radius_km=1, grid_km_size=0.1)"
      ],
      "execution_count": null,
      "outputs": []
    },
    {
      "cell_type": "markdown",
      "metadata": {},
      "source": [
        "This call results in a grid where each grid cell covers an area of 100m x 100m within a 1km radius. Hence, there would be 400 final destination points.\n",
        "\n",
        "These function calls demonstrate how adjusting the grid size affects the granularity of the grid and consequently the number of final destination points within a given market radius.\n",
        "\n",
        "The provided code utilizes the OSRM Directions API through the `osrm_python` package to perform route calculations and visualize them. Let's break down the code and its functionalities:\n",
        "\n",
        "### Setting Up OSRM Directions API with [`osrm_python`](https://github.com/alexanderquispe/osrm_python/tree/main?tab=readme-ov-file#osrm-routes) package\n",
        "\n",
        "To use the library, you need to have the OSRM server running. For this specific case, a PBF file of Pakistan is used."
      ]
    },
    {
      "cell_type": "code",
      "metadata": {},
      "source": [
        "# Download PBF file\n",
        "from osrmareas.downloader import GetPBF\n",
        "download = GetPBF()\n",
        "download.country(['pakistan']).get(save_dir='countr_pk')\n",
        "\n",
        "pbf_file = 'pakistan-latest.osm' #{country, subregion}-latest.osm\n",
        "pbf_file_path = './countr_pk'\n",
        "\n",
        "from osrmareas.osrm import Server\n",
        "pk_server = Server(pbf_file, pbf_file_path)"
      ],
      "execution_count": null,
      "outputs": []
    },
    {
      "cell_type": "markdown",
      "metadata": {},
      "source": [
        "### Generating OSRM Files and Running the Server\n",
        "\n",
        "The following code generates the necessary files for OSRM and starts the local server."
      ]
    },
    {
      "cell_type": "code",
      "metadata": {},
      "source": [
        "# Generate the files\n",
        "pk_server.gen_osrm_1()\n",
        "pk_server.prepare_server_2()\n",
        "\n",
        "# Run the server locally\n",
        "pk_server.run_server()"
      ],
      "execution_count": null,
      "outputs": []
    },
    {
      "cell_type": "markdown",
      "metadata": {},
      "source": [
        "### Calculating Routes and Visualizing\n",
        "\n",
        "The code snippet below calculates a route from a starting point (`from_`) to an ending point (`to_`) and plots it on a map."
      ]
    },
    {
      "cell_type": "code",
      "metadata": {},
      "source": [
        "from osrmareas import areas\n",
        "from_ = [28.421612, 70.313059]\n",
        "to_ = [28.408835, 70.327077]\n",
        "rt = areas.get_osrm_route(from_, to_)\n",
        "rt"
      ],
      "execution_count": null,
      "outputs": []
    },
    {
      "cell_type": "code",
      "metadata": {},
      "source": [
        "rt.plot()"
      ],
      "execution_count": null,
      "outputs": []
    },
    {
      "cell_type": "markdown",
      "metadata": {},
      "source": [
        "### Illustrating Grid Routes\n",
        "\n",
        "The subsequent code snippets demonstrate route calculations and visualizations for different grid configurations:\n",
        "\n",
        "1. Radius of 5km and grid size of 2.5km:"
      ]
    },
    {
      "cell_type": "code",
      "metadata": {},
      "source": [
        "all_rt_1=areas.get_routes(from_, radius_km=5, grid_km_size= 2.5)\n",
        "all_rt_1.plot()"
      ],
      "execution_count": null,
      "outputs": []
    },
    {
      "cell_type": "markdown",
      "metadata": {},
      "source": [
        "2. Radius of 5km and grid size of 1km:"
      ]
    },
    {
      "cell_type": "code",
      "metadata": {},
      "source": [
        "all_rt_2=areas.get_routes(from_, radius_km=5, grid_km_size= 1)\n",
        "all_rt_2.plot()"
      ],
      "execution_count": null,
      "outputs": []
    },
    {
      "cell_type": "markdown",
      "metadata": {},
      "source": [
        "3. Radius of 1km and grid size of 100 meters:"
      ]
    },
    {
      "cell_type": "code",
      "metadata": {},
      "source": [
        "all_rt_3=areas.get_routes(from_, radius_km=1, grid_km_size= 0.1)\n",
        "all_rt_3.plot()"
      ],
      "execution_count": null,
      "outputs": []
    },
    {
      "cell_type": "markdown",
      "metadata": {},
      "source": [
        "### Extracting Routes within a Specific Distance\n",
        "\n",
        "Lastly, the code snippet below extracts routes within a specified distance and generates a shapefile representing a market from the centroid of a specific radius."
      ]
    },
    {
      "cell_type": "code",
      "metadata": {},
      "source": [
        "all_rt_3=areas.get_routes(from_, radius_km=20, grid_km_size= 1)\n",
        "ameba = areas.get_ameba(all_rt_3, max_km = 12, alpha = 80, km_col='dist_driving_km')\n",
        "ameba.plot()"
      ],
      "execution_count": null,
      "outputs": []
    },
    {
      "cell_type": "markdown",
      "metadata": {},
      "source": [
        "This code snippet demonstrates the capabilities of the `osrm_python` package for route calculation and visualization, particularly useful for market analysis and planning.\n",
        "\n",
        "### OSM vs Google Maps API\n",
        "\n",
        "Let's first provide some context for our case. We have approximately 250 markets, each with a radius of about 10km, and the width of the final destination search grid is 100 meters. This means we have 4000 search destinations per market. So, in total, we would have 4000 destinations multiplied by 250 markets, resulting in 1,000,000 destinations.\n",
        "\n",
        "When using the Google Maps API, we have several options to choose from. However, for this case, the required service to subscribe to would be the [SKU: Router: Compute Routes - Basic](https://developers.google.com/maps/documentation/routes/usage-and-billing#routes-basic), which costs 0.004 USD per request. Multiplying this cost by the 1M requests we would need to make would total 4000 USD.\n",
        "\n",
        "In conclusion, using OSRM locally would imply a savings of nearly 4000 USD, not considering the cost of the equipment.\n",
        "\n",
        "# Generate Indicators\n",
        "\n",
        "In this section, we'll outline the process of generating indicators using raster files and shapefiles. First, we'll need to download and prepare the necessary data. Let's break down the steps:"
      ]
    },
    {
      "cell_type": "code",
      "metadata": {},
      "source": [
        "# Download PBF file\n",
        "from osrmareas.downloader import GetPBF\n",
        "download = GetPBF()\n",
        "download.country(['pakistan']).get(save_dir='countr_pk')"
      ],
      "execution_count": null,
      "outputs": []
    },
    {
      "cell_type": "code",
      "metadata": {},
      "source": [
        "# Set up paths and initialize the server\n",
        "pbf_file = 'pakistan-latest.osm' #{country, subregion}-latest.osm\n",
        "pbf_file_path = './countr_pk'\n",
        "\n",
        "from osrmareas.osrm import Server\n",
        "pk_pbf = Server(pbf_file, pbf_file_path)\n",
        "pk_pbf.gen_osrm_1()\n",
        "pk_pbf.prepare_server_2()\n",
        "pk_pbf.run_server()"
      ],
      "execution_count": null,
      "outputs": []
    },
    {
      "cell_type": "markdown",
      "metadata": {},
      "source": [
        "## Step by Step\n",
        "\n",
        "To obtain the metrics, we'll go through four steps. Firstly, we need to crop the raster file according to the shapefile, which represents the market area. This shapefile will be generated based on a centroid to encompass the entire market area. This cropping process ensures that we're extracting observations only from within the market area. Then, we generate the metrics. Since we assume we have a dataframe with data for multiple markets, the interaction must be performed for each market individually, followed by combining the rows of metrics.\n",
        "\n",
        "To illustrate these steps, we'll demonstrate for a single coordinate point and a single raster file.\n"
      ]
    },
    {
      "cell_type": "code",
      "metadata": {},
      "source": [
        "karachi_df = areas.get_routes(from_, radius_km=30, grid_km_size=2)\n",
        "karachi_df_shp = areas.get_ameba(karachi_df, max_km=20)"
      ],
      "execution_count": null,
      "outputs": []
    },
    {
      "cell_type": "code",
      "metadata": {},
      "source": [
        "karachi_df_shp.plot()"
      ],
      "execution_count": null,
      "outputs": []
    },
    {
      "cell_type": "markdown",
      "metadata": {},
      "source": [
        "<!--  -->\n",
        "### Cropping the Raster\n",
        "\n",
        "In this section, we'll demonstrate how to crop a raster file using a shapefile representing the market area."
      ]
    },
    {
      "cell_type": "code",
      "metadata": {},
      "source": [
        "raster_path = (\n",
        "    \"../data/8_night_light/pk_night_light_harm.tiff\"  # Path to the raster file\n",
        ")\n",
        "shapefile = karachi_df_shp  # Shapefile representing the market area\n",
        "\n",
        "\n",
        "# Define a function to extract features compatible with rasterio\n",
        "def getFeatures(gdf: gpd.GeoDataFrame):\n",
        "    import json\n",
        "\n",
        "    return [json.loads(gdf.to_json())[\"features\"][0][\"geometry\"]]\n",
        "\n",
        "\n",
        "# Crop the raster file using the shapefile\n",
        "with rio.open(raster_path) as src:\n",
        "    out_image, out_transform = mask(src, getFeatures(shapefile), crop=True)\n",
        "values = out_image.flatten()\n",
        "rows, cols = np.indices(out_image.shape[-2:])\n",
        "x, y = rio.transform.xy(out_transform, rows.flatten(), cols.flatten())\n",
        "\n",
        "# Create a DataFrame with values and coordinates\n",
        "data = {\"x\": x, \"y\": y, \"z\": values}\n",
        "df = pd.DataFrame(data)\n",
        "df"
      ],
      "execution_count": null,
      "outputs": []
    },
    {
      "cell_type": "markdown",
      "metadata": {},
      "source": [
        "### Filtering Observations within the Shapefile\n",
        "\n",
        "Next, we'll filter the observations that fall within the boundaries of the shapefile."
      ]
    },
    {
      "cell_type": "code",
      "metadata": {},
      "source": [
        "points_df = gpd.GeoDataFrame(df, geometry=gpd.points_from_xy(df[\"x\"], df[\"y\"])).set_crs(\n",
        "    epsg=4326\n",
        ")\n",
        "points_inside = gpd.sjoin(points_df, shapefile, how=\"inner\", op=\"within\")\n",
        "points_inside"
      ],
      "execution_count": null,
      "outputs": []
    },
    {
      "cell_type": "markdown",
      "metadata": {},
      "source": [
        "Visualize to verify correspondence with the cropped shapefile."
      ]
    },
    {
      "cell_type": "code",
      "metadata": {},
      "source": [
        "points_inside.plot()"
      ],
      "execution_count": null,
      "outputs": []
    },
    {
      "cell_type": "markdown",
      "metadata": {},
      "source": [
        "### Metrics\n",
        "\n",
        "For this case, we'll compute metrics including mean, standard deviation, and sum."
      ]
    },
    {
      "cell_type": "code",
      "metadata": {},
      "source": [
        "import numpy as np\n",
        "\n",
        "target_name = \"nightlight\"\n",
        "\n",
        "# Define the metrics\n",
        "metrics = [np.mean, np.std, np.sum]\n",
        "points_result = points_inside.dropna(subset=[\"z\"])\n",
        "stats = points_result[\"z\"].agg(metrics).values.flatten()\n",
        "\n",
        "# Assign computed metrics to the shapefile\n",
        "(\n",
        "    shapefile[f\"{target_name}_mean\"],\n",
        "    shapefile[f\"{target_name}_sd\"],\n",
        "    shapefile[f\"{target_name}_sum\"],\n",
        ") = stats\n",
        "shapefile"
      ],
      "execution_count": null,
      "outputs": []
    },
    {
      "cell_type": "markdown",
      "metadata": {},
      "source": [
        "<!--  -->"
      ]
    },
    {
      "cell_type": "code",
      "metadata": {},
      "source": [
        "import pandas as pd, numpy as np\n",
        "import geopandas as gpd, rasterio as rio\n",
        "from rasterio.mask import mask"
      ],
      "execution_count": null,
      "outputs": []
    },
    {
      "cell_type": "code",
      "metadata": {},
      "source": [
        "from osrmareas import areas\n",
        "karachi_ll = [24.910871, 67.030846]\n",
        "karachi_df = areas.get_routes(karachi_ll, radius_km=30, grid_km_size=1)\n",
        "karachi_df_shp = areas.get_ameba(karachi_df, max_km = 30)\n",
        "karachi_df_shp.plot()"
      ],
      "execution_count": null,
      "outputs": []
    },
    {
      "cell_type": "markdown",
      "metadata": {},
      "source": [
        "<!--  -->\n",
        "### Join All in a Function\n",
        "\n",
        "To ensure reusability, let's encapsulate the previous procedure into a function that ultimately returns a DataFrame containing the geometry of the shapefile along with its metrics."
      ]
    },
    {
      "cell_type": "code",
      "metadata": {},
      "source": [
        "def metric_result(\n",
        "    centroid_from,\n",
        "    path_raster: str,\n",
        "    radius_km=4,\n",
        "    grid_km=1,\n",
        "    target_name=\"metrics\",\n",
        "    metrics=[np.mean, np.std, np.sum],\n",
        "):\n",
        "    # Generate a shapefile\n",
        "    routes = areas.get_routes(centroid_from, radius_km=radius_km, grid_km_size=grid_km)\n",
        "    shapefile = areas.get_ameba(routes, max_km=radius_km)\n",
        "\n",
        "    # Crop the raster\n",
        "    with rio.open(path_raster) as src:\n",
        "        out_image, out_transform = mask(src, getFeatures(shapefile), crop=True)\n",
        "\n",
        "    values = out_image.flatten()\n",
        "    rows, cols = np.indices(out_image.shape[-2:])\n",
        "    x, y = rio.transform.xy(out_transform, rows.flatten(), cols.flatten())\n",
        "\n",
        "    data = {\"x\": x, \"y\": y, \"z\": values}\n",
        "    df = pd.DataFrame(data)\n",
        "\n",
        "    # Points inside\n",
        "    points_df = gpd.GeoDataFrame(\n",
        "        df, geometry=gpd.points_from_xy(df[\"x\"], df[\"y\"])\n",
        "    ).set_crs(epsg=4326)\n",
        "    points_inside = gpd.sjoin(points_df, shapefile, how=\"inner\", op=\"within\")\n",
        "\n",
        "    # Generate Metrics\n",
        "    points_result = points_inside.dropna(subset=[\"z\"])\n",
        "    stats = points_result[\"z\"].agg(metrics).values.flatten()\n",
        "\n",
        "    (\n",
        "        shapefile[f\"{target_name}_mean\"],\n",
        "        shapefile[f\"{target_name}_sd\"],\n",
        "        shapefile[f\"{target_name}_sum\"],\n",
        "    ) = stats\n",
        "\n",
        "    return shapefile"
      ],
      "execution_count": null,
      "outputs": []
    },
    {
      "cell_type": "markdown",
      "metadata": {},
      "source": [
        "Now, let's test it with other coordinates."
      ]
    },
    {
      "cell_type": "code",
      "metadata": {},
      "source": [
        "centroides_pk = [\n",
        "    [24.951004, 66.985305],\n",
        "    [24.910871, 67.030846],\n",
        "    [24.958856, 67.040013],\n",
        "    [24.933989, 67.107785],\n",
        "]\n",
        "\n",
        "metric_df = gpd.GeoDataFrame()\n",
        "for centroid in centroides_pk:\n",
        "    result = metric_result(centroid, path_raster=raster_path)\n",
        "    metric_df = pd.concat((metric_df, result))"
      ],
      "execution_count": null,
      "outputs": []
    },
    {
      "cell_type": "code",
      "metadata": {},
      "source": [
        "metric_df.plot(column='metrics_mean')"
      ],
      "execution_count": null,
      "outputs": []
    },
    {
      "cell_type": "markdown",
      "metadata": {},
      "source": [
        "In conclusion, to obtain metrics, you need the centroid coordinates, the path to the raster file, the radius of the raster file, the grid width explained in the first part, and lastly, a prefix name for the columns to facilitate merging multiple databases.\n",
        "<!--  -->\n",
        "\n",
        "\n",
        "\n",
        "<!--  -->\n",
        "## Other Metrics\n",
        "\n",
        "To streamline the process mentioned earlier, we can use a function that takes the aforementioned parameters as inputs."
      ]
    },
    {
      "cell_type": "code",
      "metadata": {},
      "source": [
        "def metric_df_calculate(centroids, raster_path, **kwargs):\n",
        "    metric_df = gpd.GeoDataFrame()\n",
        "    for centroid in centroids:\n",
        "        result = metric_result(centroid, raster_path, **kwargs)\n",
        "        metric_df = pd.concat((metric_df, result))\n",
        "    return metric_df"
      ],
      "execution_count": null,
      "outputs": []
    },
    {
      "cell_type": "markdown",
      "metadata": {},
      "source": [
        "### Nightlight\n",
        "\n",
        "#### Harm \n",
        "\n",
        "Nightlight data can provide insights into urbanization and economic activity. Let's calculate metrics for the \"Harm\" version of nightlight data."
      ]
    },
    {
      "cell_type": "code",
      "metadata": {},
      "source": [
        "r_path = \"../data/8_night_light/pk_night_light_harm.tiff\"\n",
        "name_col = \"nightlight_harm\"\n",
        "metric_df_calculate(centroides_pk, raster_path=r_path, target_name=name_col)"
      ],
      "execution_count": null,
      "outputs": []
    },
    {
      "cell_type": "markdown",
      "metadata": {},
      "source": [
        "#### Original\n",
        "\n",
        "Now, let's compute metrics for the original nightlight data."
      ]
    },
    {
      "cell_type": "code",
      "metadata": {},
      "source": [
        "r_path = '../data/8_night_light/pk_night_light.tiff'\n",
        "name_col = \"nightlight\"\n",
        "metric_df_calculate(centroides_pk, raster_path = r_path, target_name=name_col)"
      ],
      "execution_count": null,
      "outputs": []
    },
    {
      "cell_type": "markdown",
      "metadata": {},
      "source": [
        "### Population\n",
        "\n",
        "Population density is a crucial indicator for various analyses. Let's calculate metrics based on population data."
      ]
    },
    {
      "cell_type": "code",
      "metadata": {},
      "source": [
        "pop_tif = \"../data/1_density/pak_ppp_2018_1km_Aggregated.tif\"\n",
        "name_col = \"population\"\n",
        "metric_df_calculate(centroides_pk, pop_tif, target_name=name_col)"
      ],
      "execution_count": null,
      "outputs": []
    },
    {
      "cell_type": "markdown",
      "metadata": {},
      "source": [
        "### Motor\n",
        "\n",
        "Friction surfaces, such as motorized friction, can indicate the ease of travel. Let's analyze motorized friction data."
      ]
    },
    {
      "cell_type": "code",
      "metadata": {},
      "source": [
        "motor_tif = \"../data/5_friction_surface/2020_motorized_friction_surface.geotiff\"\n",
        "motor_name = \"motor\"\n",
        "metric_df_calculate(centroides_pk, motor_tif, target_name=motor_name)"
      ],
      "execution_count": null,
      "outputs": []
    },
    {
      "cell_type": "markdown",
      "metadata": {},
      "source": [
        "### Altitude\n",
        "\n",
        "Altitude data provides valuable insights into terrain characteristics. Let's compute altitude metrics."
      ]
    },
    {
      "cell_type": "code",
      "metadata": {},
      "source": [
        "srtm_tif = \"../data/6_srtm/PK_srtm.tif\"\n",
        "name_col = \"altitude\"\n",
        "metric_df_calculate(centroides_pk, srtm_tif, target_name=name_col)"
      ],
      "execution_count": null,
      "outputs": []
    },
    {
      "cell_type": "markdown",
      "metadata": {},
      "source": [
        "These functions allow for efficient computation of various metrics, providing valuable information for spatial analysis and decision-making.\n",
        "<!--  -->"
      ]
    }
  ],
  "metadata": {
    "kernelspec": {
      "name": "py3_github_update",
      "language": "python",
      "display_name": "py3_github_update"
    }
  },
  "nbformat": 4,
  "nbformat_minor": 4
}