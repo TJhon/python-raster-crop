{
 "cells": [
  {
   "cell_type": "code",
   "execution_count": 2,
   "metadata": {},
   "outputs": [],
   "source": [
    "import sys, geopandas as gpd, pandas as pd\n",
    "import warnings \n",
    "warnings.filterwarnings('ignore')\n",
    "sys.path.append(\"..\")\n",
    "from src import user_function as utils "
   ]
  },
  {
   "cell_type": "markdown",
   "metadata": {},
   "source": [
    "# Principal Data"
   ]
  },
  {
   "cell_type": "code",
   "execution_count": 4,
   "metadata": {},
   "outputs": [
    {
     "data": {
      "text/html": [
       "<div>\n",
       "<style scoped>\n",
       "    .dataframe tbody tr th:only-of-type {\n",
       "        vertical-align: middle;\n",
       "    }\n",
       "\n",
       "    .dataframe tbody tr th {\n",
       "        vertical-align: top;\n",
       "    }\n",
       "\n",
       "    .dataframe thead th {\n",
       "        text-align: right;\n",
       "    }\n",
       "</style>\n",
       "<table border=\"1\" class=\"dataframe\">\n",
       "  <thead>\n",
       "    <tr style=\"text-align: right;\">\n",
       "      <th></th>\n",
       "      <th>index</th>\n",
       "      <th>id_distr_b</th>\n",
       "      <th>year</th>\n",
       "      <th>newid</th>\n",
       "      <th>baseline_P</th>\n",
       "      <th>geometry</th>\n",
       "    </tr>\n",
       "  </thead>\n",
       "  <tbody>\n",
       "    <tr>\n",
       "      <th>0</th>\n",
       "      <td>0</td>\n",
       "      <td>204</td>\n",
       "      <td>2015</td>\n",
       "      <td>3185</td>\n",
       "      <td>473</td>\n",
       "      <td>POLYGON ((71.48246 34.14608, 71.48349 34.14576...</td>\n",
       "    </tr>\n",
       "    <tr>\n",
       "      <th>1</th>\n",
       "      <td>1</td>\n",
       "      <td>203</td>\n",
       "      <td>2015</td>\n",
       "      <td>3185</td>\n",
       "      <td>472</td>\n",
       "      <td>POLYGON ((71.48246 34.14608, 71.48349 34.14576...</td>\n",
       "    </tr>\n",
       "  </tbody>\n",
       "</table>\n",
       "</div>"
      ],
      "text/plain": [
       "   index  id_distr_b  year  newid  baseline_P  \\\n",
       "0      0         204  2015   3185         473   \n",
       "1      1         203  2015   3185         472   \n",
       "\n",
       "                                            geometry  \n",
       "0  POLYGON ((71.48246 34.14608, 71.48349 34.14576...  \n",
       "1  POLYGON ((71.48246 34.14608, 71.48349 34.14576...  "
      ]
     },
     "execution_count": 4,
     "metadata": {},
     "output_type": "execute_result"
    }
   ],
   "source": [
    "shp_data = gpd.read_file(\"../data/0_shapefile/pos_gdf.shp\").to_crs(epsg=4326)\n",
    "raster_path = '../data/2_setlement/GHS_BUILT_C_MSZ_E2018_GLOBE_R2022A_54009_10_V1_0.tif'\n",
    "shp_data.head(2)"
   ]
  },
  {
   "cell_type": "markdown",
   "metadata": {},
   "source": [
    "## Raster Data"
   ]
  },
  {
   "cell_type": "markdown",
   "metadata": {},
   "source": [
    "### Testing"
   ]
  },
  {
   "cell_type": "code",
   "execution_count": 6,
   "metadata": {},
   "outputs": [],
   "source": [
    "sample_shp_1 = shp_data.sample(3, random_state=12)\n",
    "with_nas_test, without_nas_test= utils.get_metrics_setl(raster_path,  sample_shp_1)"
   ]
  },
  {
   "cell_type": "code",
   "execution_count": 7,
   "metadata": {},
   "outputs": [
    {
     "data": {
      "text/html": [
       "<div>\n",
       "<style scoped>\n",
       "    .dataframe tbody tr th:only-of-type {\n",
       "        vertical-align: middle;\n",
       "    }\n",
       "\n",
       "    .dataframe tbody tr th {\n",
       "        vertical-align: top;\n",
       "    }\n",
       "\n",
       "    .dataframe thead th {\n",
       "        text-align: right;\n",
       "    }\n",
       "</style>\n",
       "<table border=\"1\" class=\"dataframe\">\n",
       "  <thead>\n",
       "    <tr style=\"text-align: right;\">\n",
       "      <th></th>\n",
       "      <th>index</th>\n",
       "      <th>id_distr_bank</th>\n",
       "      <th>year</th>\n",
       "      <th>newid</th>\n",
       "      <th>baseline_PSU</th>\n",
       "      <th>dummy_settl_0</th>\n",
       "      <th>dummy_settl_11</th>\n",
       "      <th>dummy_settl_2</th>\n",
       "      <th>dummy_settl_3</th>\n",
       "      <th>dummy_settl_5</th>\n",
       "    </tr>\n",
       "  </thead>\n",
       "  <tbody>\n",
       "    <tr>\n",
       "      <th>0</th>\n",
       "      <td>5.0</td>\n",
       "      <td>242.0</td>\n",
       "      <td>2015.0</td>\n",
       "      <td>3192.0</td>\n",
       "      <td>344.0</td>\n",
       "      <td>0.989327</td>\n",
       "      <td>0.005351</td>\n",
       "      <td>0.000595</td>\n",
       "      <td>0.004681</td>\n",
       "      <td>0.000047</td>\n",
       "    </tr>\n",
       "    <tr>\n",
       "      <th>0</th>\n",
       "      <td>23.0</td>\n",
       "      <td>112.0</td>\n",
       "      <td>2015.0</td>\n",
       "      <td>3219.0</td>\n",
       "      <td>159.0</td>\n",
       "      <td>0.991230</td>\n",
       "      <td>0.004201</td>\n",
       "      <td>0.000137</td>\n",
       "      <td>0.004302</td>\n",
       "      <td>0.000131</td>\n",
       "    </tr>\n",
       "    <tr>\n",
       "      <th>0</th>\n",
       "      <td>66.0</td>\n",
       "      <td>219.0</td>\n",
       "      <td>2015.0</td>\n",
       "      <td>13049.0</td>\n",
       "      <td>191.0</td>\n",
       "      <td>0.994841</td>\n",
       "      <td>0.002531</td>\n",
       "      <td>0.000000</td>\n",
       "      <td>0.002628</td>\n",
       "      <td>0.000000</td>\n",
       "    </tr>\n",
       "  </tbody>\n",
       "</table>\n",
       "</div>"
      ],
      "text/plain": [
       "   index  id_distr_bank    year    newid  baseline_PSU  dummy_settl_0  \\\n",
       "0    5.0          242.0  2015.0   3192.0         344.0       0.989327   \n",
       "0   23.0          112.0  2015.0   3219.0         159.0       0.991230   \n",
       "0   66.0          219.0  2015.0  13049.0         191.0       0.994841   \n",
       "\n",
       "   dummy_settl_11  dummy_settl_2  dummy_settl_3  dummy_settl_5  \n",
       "0        0.005351       0.000595       0.004681       0.000047  \n",
       "0        0.004201       0.000137       0.004302       0.000131  \n",
       "0        0.002531       0.000000       0.002628       0.000000  "
      ]
     },
     "execution_count": 7,
     "metadata": {},
     "output_type": "execute_result"
    }
   ],
   "source": [
    "with_nas_test"
   ]
  },
  {
   "cell_type": "code",
   "execution_count": 8,
   "metadata": {},
   "outputs": [
    {
     "data": {
      "text/html": [
       "<div>\n",
       "<style scoped>\n",
       "    .dataframe tbody tr th:only-of-type {\n",
       "        vertical-align: middle;\n",
       "    }\n",
       "\n",
       "    .dataframe tbody tr th {\n",
       "        vertical-align: top;\n",
       "    }\n",
       "\n",
       "    .dataframe thead th {\n",
       "        text-align: right;\n",
       "    }\n",
       "</style>\n",
       "<table border=\"1\" class=\"dataframe\">\n",
       "  <thead>\n",
       "    <tr style=\"text-align: right;\">\n",
       "      <th></th>\n",
       "      <th>index</th>\n",
       "      <th>id_distr_bank</th>\n",
       "      <th>year</th>\n",
       "      <th>newid</th>\n",
       "      <th>baseline_PSU</th>\n",
       "      <th>dummy_settle_without_na_11</th>\n",
       "      <th>dummy_settle_without_na_2</th>\n",
       "      <th>dummy_settle_without_na_3</th>\n",
       "      <th>dummy_settle_without_na_5</th>\n",
       "    </tr>\n",
       "  </thead>\n",
       "  <tbody>\n",
       "    <tr>\n",
       "      <th>0</th>\n",
       "      <td>5.0</td>\n",
       "      <td>242.0</td>\n",
       "      <td>2015.0</td>\n",
       "      <td>3192.0</td>\n",
       "      <td>344.0</td>\n",
       "      <td>0.501326</td>\n",
       "      <td>0.055703</td>\n",
       "      <td>0.438550</td>\n",
       "      <td>0.004421</td>\n",
       "    </tr>\n",
       "    <tr>\n",
       "      <th>0</th>\n",
       "      <td>23.0</td>\n",
       "      <td>112.0</td>\n",
       "      <td>2015.0</td>\n",
       "      <td>3219.0</td>\n",
       "      <td>159.0</td>\n",
       "      <td>0.478997</td>\n",
       "      <td>0.015583</td>\n",
       "      <td>0.490515</td>\n",
       "      <td>0.014905</td>\n",
       "    </tr>\n",
       "    <tr>\n",
       "      <th>0</th>\n",
       "      <td>66.0</td>\n",
       "      <td>219.0</td>\n",
       "      <td>2015.0</td>\n",
       "      <td>13049.0</td>\n",
       "      <td>191.0</td>\n",
       "      <td>0.490654</td>\n",
       "      <td>0.000000</td>\n",
       "      <td>0.509346</td>\n",
       "      <td>0.000000</td>\n",
       "    </tr>\n",
       "  </tbody>\n",
       "</table>\n",
       "</div>"
      ],
      "text/plain": [
       "   index  id_distr_bank    year    newid  baseline_PSU  \\\n",
       "0    5.0          242.0  2015.0   3192.0         344.0   \n",
       "0   23.0          112.0  2015.0   3219.0         159.0   \n",
       "0   66.0          219.0  2015.0  13049.0         191.0   \n",
       "\n",
       "   dummy_settle_without_na_11  dummy_settle_without_na_2  \\\n",
       "0                    0.501326                   0.055703   \n",
       "0                    0.478997                   0.015583   \n",
       "0                    0.490654                   0.000000   \n",
       "\n",
       "   dummy_settle_without_na_3  dummy_settle_without_na_5  \n",
       "0                   0.438550                   0.004421  \n",
       "0                   0.490515                   0.014905  \n",
       "0                   0.509346                   0.000000  "
      ]
     },
     "execution_count": 8,
     "metadata": {},
     "output_type": "execute_result"
    }
   ],
   "source": [
    "without_nas_test"
   ]
  },
  {
   "cell_type": "markdown",
   "metadata": {},
   "source": [
    "### All data"
   ]
  },
  {
   "cell_type": "code",
   "execution_count": 9,
   "metadata": {},
   "outputs": [],
   "source": [
    "with_nas, without_nas = utils.get_metrics_setl(raster_path, shp_data)"
   ]
  },
  {
   "cell_type": "code",
   "execution_count": 11,
   "metadata": {},
   "outputs": [],
   "source": [
    "utils.save_data(with_nas, \"settlement_with_nas\", head_name=\"2_metrics_\", path_dir=\"../output/\")\n",
    "utils.save_data(without_nas, \"settlement_without_nas\", head_name=\"2_metrics_\", path_dir=\"../output/\")"
   ]
  }
 ],
 "metadata": {
  "kernelspec": {
   "display_name": "python-ind-translate-eyonqAms",
   "language": "python",
   "name": "python3"
  },
  "language_info": {
   "codemirror_mode": {
    "name": "ipython",
    "version": 3
   },
   "file_extension": ".py",
   "mimetype": "text/x-python",
   "name": "python",
   "nbconvert_exporter": "python",
   "pygments_lexer": "ipython3",
   "version": "3.10.0"
  }
 },
 "nbformat": 4,
 "nbformat_minor": 2
}
